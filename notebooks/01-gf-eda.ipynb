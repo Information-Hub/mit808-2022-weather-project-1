{
 "cells": [
  {
   "cell_type": "code",
   "execution_count": 1,
   "metadata": {},
   "outputs": [
    {
     "name": "stdout",
     "output_type": "stream",
     "text": [
      "c:\\Scripts\\mit808-2022-project-significant-outliers-1/reports/figures/\n"
     ]
    }
   ],
   "source": [
    "'''ONLY RUN THIS CELL ONCE OR THE PATH WILL CHANGE AND YOU WILL HAVE TO RESTART AND RUN ALL'''\n",
    "import os\n",
    "os.path.abspath(os.curdir)\n",
    "os.chdir(\"..\")\n",
    "REPO_PATH = os.path.abspath(os.curdir)\n",
    "FIGURE_PATH = REPO_PATH + '/reports/figures/'\n",
    "print(FIGURE_PATH)"
   ]
  },
  {
   "cell_type": "code",
   "execution_count": 2,
   "metadata": {},
   "outputs": [],
   "source": [
    "import pandas as pd\n",
    "import seaborn as sns\n",
    "import numpy as np\n",
    "import matplotlib.pyplot as plt\n",
    "import os\n",
    "from functions import *"
   ]
  },
  {
   "cell_type": "markdown",
   "metadata": {},
   "source": [
    "# 1. DETAIL ANALYSIS\n",
    "## 1.1. Weather Dataset\n",
    "See CM_weather_eda.ipynb\n",
    "\n",
    "## 1.2 Sirex inspection samples"
   ]
  },
  {
   "cell_type": "code",
   "execution_count": 3,
   "metadata": {},
   "outputs": [
    {
     "data": {
      "text/html": [
       "<div>\n",
       "<style scoped>\n",
       "    .dataframe tbody tr th:only-of-type {\n",
       "        vertical-align: middle;\n",
       "    }\n",
       "\n",
       "    .dataframe tbody tr th {\n",
       "        vertical-align: top;\n",
       "    }\n",
       "\n",
       "    .dataframe thead th {\n",
       "        text-align: right;\n",
       "    }\n",
       "</style>\n",
       "<table border=\"1\" class=\"dataframe\">\n",
       "  <thead>\n",
       "    <tr style=\"text-align: right;\">\n",
       "      <th></th>\n",
       "      <th>Year</th>\n",
       "      <th>Species</th>\n",
       "      <th>Sirex_Presence</th>\n",
       "      <th>DataCleaning</th>\n",
       "    </tr>\n",
       "  </thead>\n",
       "  <tbody>\n",
       "    <tr>\n",
       "      <th>0</th>\n",
       "      <td>2012</td>\n",
       "      <td>P PAT</td>\n",
       "      <td>No Sirex</td>\n",
       "      <td>Inference from same site numbers and compartments</td>\n",
       "    </tr>\n",
       "    <tr>\n",
       "      <th>1</th>\n",
       "      <td>2012</td>\n",
       "      <td>P PAT</td>\n",
       "      <td>No Sirex</td>\n",
       "      <td>Inference from same site numbers and compartments</td>\n",
       "    </tr>\n",
       "    <tr>\n",
       "      <th>2</th>\n",
       "      <td>2012</td>\n",
       "      <td>P PAT</td>\n",
       "      <td>No Sirex</td>\n",
       "      <td>-</td>\n",
       "    </tr>\n",
       "    <tr>\n",
       "      <th>3</th>\n",
       "      <td>2012</td>\n",
       "      <td>P PAT</td>\n",
       "      <td>No Sirex</td>\n",
       "      <td>Inference from same site numbers and compartments</td>\n",
       "    </tr>\n",
       "    <tr>\n",
       "      <th>4</th>\n",
       "      <td>2012</td>\n",
       "      <td>P PAT</td>\n",
       "      <td>No Sirex</td>\n",
       "      <td>-</td>\n",
       "    </tr>\n",
       "  </tbody>\n",
       "</table>\n",
       "</div>"
      ],
      "text/plain": [
       "   Year Species Sirex_Presence  \\\n",
       "0  2012   P PAT       No Sirex   \n",
       "1  2012   P PAT       No Sirex   \n",
       "2  2012   P PAT       No Sirex   \n",
       "3  2012   P PAT       No Sirex   \n",
       "4  2012   P PAT       No Sirex   \n",
       "\n",
       "                                        DataCleaning  \n",
       "0  Inference from same site numbers and compartments  \n",
       "1  Inference from same site numbers and compartments  \n",
       "2                                                  -  \n",
       "3  Inference from same site numbers and compartments  \n",
       "4                                                  -  "
      ]
     },
     "execution_count": 3,
     "metadata": {},
     "output_type": "execute_result"
    }
   ],
   "source": [
    "sirexData = read_from_drive('https://drive.google.com/file/d/1tTJMB0Pocj6VqVipbhCGdvZPAX7CY4lX/view?usp=sharing')\n",
    "sirexData.head()"
   ]
  },
  {
   "cell_type": "code",
   "execution_count": 4,
   "metadata": {},
   "outputs": [
    {
     "name": "stdout",
     "output_type": "stream",
     "text": [
      "Sirex per year\n",
      "Year\n",
      "2012    392\n",
      "2013    436\n",
      "2014    480\n",
      "2015    474\n",
      "2016    485\n",
      "2017    477\n",
      "2018    510\n",
      "2019    526\n",
      "dtype: int64\n",
      "Average count for Sirex and No Sirex per Year: 472.5\n",
      "Total count for Sirex and No Sirex: 3780\n"
     ]
    }
   ],
   "source": [
    "sirexPerYear = sirexData.groupby(['Year']).size()\n",
    "print('Sirex per year')\n",
    "print(sirexPerYear)\n",
    "\n",
    "print(\"Average count for Sirex and No Sirex per Year:\",sum(sirexPerYear)/len(sirexPerYear))\n",
    "print(\"Total count for Sirex and No Sirex:\",len(sirexData))"
   ]
  },
  {
   "cell_type": "code",
   "execution_count": 5,
   "metadata": {},
   "outputs": [
    {
     "name": "stdout",
     "output_type": "stream",
     "text": [
      "Average for Sirex positive per Year: 24.0%\n"
     ]
    }
   ],
   "source": [
    "sirexPresence = sirexData[sirexData['Sirex_Presence'] == 'Sirex']\n",
    "\n",
    "sirexPerYearPresence = sirexPresence.groupby(['Year']).size()\n",
    "\n",
    "sirexComp = sirexPerYearPresence/sirexPerYear*100\n",
    "print(\"Average for Sirex positive per Year:\",str(round(sum(sirexComp)/len(sirexComp),0)) + '%')"
   ]
  },
  {
   "cell_type": "markdown",
   "metadata": {},
   "source": [
    "### 1.2.1 GPS inspection location"
   ]
  },
  {
   "cell_type": "code",
   "execution_count": 6,
   "metadata": {},
   "outputs": [
    {
     "data": {
      "text/plain": [
       "DataCleaning\n",
       "-                                                        3489\n",
       "Added negative                                              5\n",
       "Inference from same site numbers and compartments         218\n",
       "Lat and long swopped                                       43\n",
       "Moved to same compartment, plantation and site number      25\n",
       "dtype: int64"
      ]
     },
     "execution_count": 6,
     "metadata": {},
     "output_type": "execute_result"
    }
   ],
   "source": [
    "sirexData.groupby(['DataCleaning']).size()"
   ]
  },
  {
   "cell_type": "markdown",
   "metadata": {},
   "source": [
    "### 1.2.2 Sirex presence binary indicator\n",
    "#### Figure 5: Sirex inspection distribution\n",
    "Feed data into QGIS and plot spatially using the province shapefile as base layer.\n",
    "\n",
    "The QGIS project file (used to generate the maps in the report) has not been uploaded to GitHub due to the joint requirement of the pest data's GPS coordinates to be uploaded. This data is confidential and has been requested by the industry partner to be kept as such."
   ]
  },
  {
   "cell_type": "markdown",
   "metadata": {},
   "source": [
    "### 1.2.3 Condition of trees and pest severity\n",
    "#### Table 1: Sirex condition status"
   ]
  },
  {
   "cell_type": "code",
   "execution_count": 7,
   "metadata": {},
   "outputs": [
    {
     "data": {
      "text/html": [
       "<div>\n",
       "<style scoped>\n",
       "    .dataframe tbody tr th:only-of-type {\n",
       "        vertical-align: middle;\n",
       "    }\n",
       "\n",
       "    .dataframe tbody tr th {\n",
       "        vertical-align: top;\n",
       "    }\n",
       "\n",
       "    .dataframe thead th {\n",
       "        text-align: right;\n",
       "    }\n",
       "</style>\n",
       "<table border=\"1\" class=\"dataframe\">\n",
       "  <thead>\n",
       "    <tr style=\"text-align: right;\">\n",
       "      <th></th>\n",
       "      <th>Sirex_Presence</th>\n",
       "      <th>Species</th>\n",
       "      <th>Tot_living</th>\n",
       "      <th>Dead/dying</th>\n",
       "      <th>Unclassified</th>\n",
       "      <th>Stems</th>\n",
       "    </tr>\n",
       "  </thead>\n",
       "  <tbody>\n",
       "    <tr>\n",
       "      <th>0</th>\n",
       "      <td>No Sirex</td>\n",
       "      <td>P PAT</td>\n",
       "      <td>82</td>\n",
       "      <td>0</td>\n",
       "      <td>0</td>\n",
       "      <td>82</td>\n",
       "    </tr>\n",
       "    <tr>\n",
       "      <th>1</th>\n",
       "      <td>No Sirex</td>\n",
       "      <td>P PAT</td>\n",
       "      <td>76</td>\n",
       "      <td>0</td>\n",
       "      <td>0</td>\n",
       "      <td>76</td>\n",
       "    </tr>\n",
       "    <tr>\n",
       "      <th>2</th>\n",
       "      <td>No Sirex</td>\n",
       "      <td>P PAT</td>\n",
       "      <td>71</td>\n",
       "      <td>0</td>\n",
       "      <td>0</td>\n",
       "      <td>71</td>\n",
       "    </tr>\n",
       "    <tr>\n",
       "      <th>3</th>\n",
       "      <td>No Sirex</td>\n",
       "      <td>P PAT</td>\n",
       "      <td>79</td>\n",
       "      <td>0</td>\n",
       "      <td>0</td>\n",
       "      <td>79</td>\n",
       "    </tr>\n",
       "    <tr>\n",
       "      <th>4</th>\n",
       "      <td>No Sirex</td>\n",
       "      <td>P PAT</td>\n",
       "      <td>84</td>\n",
       "      <td>0</td>\n",
       "      <td>2</td>\n",
       "      <td>86</td>\n",
       "    </tr>\n",
       "  </tbody>\n",
       "</table>\n",
       "</div>"
      ],
      "text/plain": [
       "  Sirex_Presence Species  Tot_living  Dead/dying  Unclassified  Stems\n",
       "0       No Sirex   P PAT          82           0             0     82\n",
       "1       No Sirex   P PAT          76           0             0     76\n",
       "2       No Sirex   P PAT          71           0             0     71\n",
       "3       No Sirex   P PAT          79           0             0     79\n",
       "4       No Sirex   P PAT          84           0             2     86"
      ]
     },
     "execution_count": 7,
     "metadata": {},
     "output_type": "execute_result"
    }
   ],
   "source": [
    "SirexCondition = read_from_drive('https://drive.google.com/file/d/1YdPDKiI_bo5n6fy0NSn_bERIE0KQ5BFZ/view?usp=sharing')\n",
    "SirexCondition = SirexCondition.rename(columns={'Missing':'Unclassified'})\n",
    "SirexCondition.head()"
   ]
  },
  {
   "cell_type": "code",
   "execution_count": 8,
   "metadata": {},
   "outputs": [
    {
     "data": {
      "text/html": [
       "<div>\n",
       "<style scoped>\n",
       "    .dataframe tbody tr th:only-of-type {\n",
       "        vertical-align: middle;\n",
       "    }\n",
       "\n",
       "    .dataframe tbody tr th {\n",
       "        vertical-align: top;\n",
       "    }\n",
       "\n",
       "    .dataframe thead th {\n",
       "        text-align: right;\n",
       "    }\n",
       "</style>\n",
       "<table border=\"1\" class=\"dataframe\">\n",
       "  <thead>\n",
       "    <tr style=\"text-align: right;\">\n",
       "      <th></th>\n",
       "      <th>Tot_living</th>\n",
       "      <th>Dead/dying</th>\n",
       "      <th>Unclassified</th>\n",
       "    </tr>\n",
       "    <tr>\n",
       "      <th>Sirex_Presence</th>\n",
       "      <th></th>\n",
       "      <th></th>\n",
       "      <th></th>\n",
       "    </tr>\n",
       "  </thead>\n",
       "  <tbody>\n",
       "    <tr>\n",
       "      <th>No Sirex</th>\n",
       "      <td>88.7</td>\n",
       "      <td>0.0</td>\n",
       "      <td>11.3</td>\n",
       "    </tr>\n",
       "    <tr>\n",
       "      <th>Sirex</th>\n",
       "      <td>88.1</td>\n",
       "      <td>3.5</td>\n",
       "      <td>8.5</td>\n",
       "    </tr>\n",
       "  </tbody>\n",
       "</table>\n",
       "</div>"
      ],
      "text/plain": [
       "                Tot_living  Dead/dying  Unclassified\n",
       "Sirex_Presence                                      \n",
       "No Sirex              88.7         0.0          11.3\n",
       "Sirex                 88.1         3.5           8.5"
      ]
     },
     "execution_count": 8,
     "metadata": {},
     "output_type": "execute_result"
    }
   ],
   "source": [
    "sumSirex = SirexCondition.groupby(['Sirex_Presence']).sum()\n",
    "df1 = round(sumSirex['Tot_living']/(sumSirex['Stems'])*100,1)\n",
    "df2 = round(sumSirex['Dead/dying']/(sumSirex['Stems'])*100,1)\n",
    "df3 = round(sumSirex['Unclassified']/(sumSirex['Stems'])*100,1)\n",
    "\n",
    "SirexPerc = pd.concat([df1,df2,df3], axis=1).reindex(df1.index)\n",
    "SirexPerc = SirexPerc.rename(columns={0:'Tot_living',1:'Dead/dying',2:'Unclassified'})\n",
    "SirexPerc"
   ]
  },
  {
   "cell_type": "markdown",
   "metadata": {},
   "source": [
    "### 1.2.4 Tree species and Sirex prevalence\n",
    "#### Figure 6: Sirex prevalence per tree species"
   ]
  },
  {
   "cell_type": "code",
   "execution_count": 9,
   "metadata": {},
   "outputs": [
    {
     "data": {
      "text/plain": [
       "<matplotlib.legend.Legend at 0x17aa0e0b2e0>"
      ]
     },
     "execution_count": 9,
     "metadata": {},
     "output_type": "execute_result"
    },
    {
     "data": {
      "image/png": "[encoded data removed]",
      "text/plain": [
       "<Figure size 576x115.2 with 1 Axes>"
      ]
     },
     "metadata": {
      "needs_background": "light"
     },
     "output_type": "display_data"
    }
   ],
   "source": [
    "barWidth = 0.25\n",
    "fig = plt.subplots(figsize =(8, 1.6))\n",
    "plt.rcParams[\"font.family\"] = \"Times New Roman\"\n",
    "# set height of bar\n",
    "speciesS = SirexCondition[SirexCondition['Sirex_Presence'] =='Sirex']\n",
    "speciesNS = SirexCondition[SirexCondition['Sirex_Presence'] =='No Sirex']\n",
    "\n",
    "speciesS = speciesS.groupby(['Species']).sum()\n",
    "speciesS = speciesS.sort_values(['Stems'], ascending = False)\n",
    "speciesNS = speciesNS.groupby(['Species']).sum()\n",
    "speciesNS = speciesNS.sort_values(['Stems'], ascending = False)\n",
    "\n",
    "S = speciesS['Stems']\n",
    "NS = speciesNS['Stems']\n",
    "\n",
    "SNS = pd.concat([S,NS], axis=1).reindex(S.index)\n",
    "SNS.columns = ['Sirex', 'No Sirex']\n",
    "\n",
    "# Set position of bar on X axis\n",
    "br1 = np.arange(len(S))\n",
    "br2 = [x + barWidth for x in br1]\n",
    " \n",
    "# Make the plot\n",
    "plt.bar(br1, SNS['Sirex'], color ='#f8766d', width = barWidth,edgecolor ='grey', label ='Sirex')\n",
    "plt.bar(br2, SNS['No Sirex'], color ='grey', width = barWidth,edgecolor ='grey', label ='No Sirex') \n",
    "\n",
    "plt.xlabel('Species', fontsize = 12)\n",
    "plt.ylabel('No. of Stems', fontsize = 12)\n",
    "plt.xticks([r + barWidth for r in range(len(S))],SNS.index)\n",
    "plt.grid(axis='y', alpha=0.75)\n",
    " \n",
    "plt.legend()\n",
    "# plt.savefig(f'{FIGURE_PATH}SirexStemsPerSpecies.png')\n"
   ]
  },
  {
   "cell_type": "markdown",
   "metadata": {},
   "source": [
    "## 1.3 Leptocybe inspection samples"
   ]
  },
  {
   "cell_type": "code",
   "execution_count": 10,
   "metadata": {},
   "outputs": [
    {
     "data": {
      "text/html": [
       "<div>\n",
       "<style scoped>\n",
       "    .dataframe tbody tr th:only-of-type {\n",
       "        vertical-align: middle;\n",
       "    }\n",
       "\n",
       "    .dataframe tbody tr th {\n",
       "        vertical-align: top;\n",
       "    }\n",
       "\n",
       "    .dataframe thead th {\n",
       "        text-align: right;\n",
       "    }\n",
       "</style>\n",
       "<table border=\"1\" class=\"dataframe\">\n",
       "  <thead>\n",
       "    <tr style=\"text-align: right;\">\n",
       "      <th></th>\n",
       "      <th>Year</th>\n",
       "      <th>Species</th>\n",
       "      <th>Lepto_Presence</th>\n",
       "      <th>DataCleaning</th>\n",
       "      <th>% Infestation</th>\n",
       "    </tr>\n",
       "  </thead>\n",
       "  <tbody>\n",
       "    <tr>\n",
       "      <th>0</th>\n",
       "      <td>2017</td>\n",
       "      <td>EGRA</td>\n",
       "      <td>Leptocybe</td>\n",
       "      <td>Trees_assessed_Intensity</td>\n",
       "      <td>72.0</td>\n",
       "    </tr>\n",
       "    <tr>\n",
       "      <th>1</th>\n",
       "      <td>2017</td>\n",
       "      <td>EGXC</td>\n",
       "      <td>Leptocybe</td>\n",
       "      <td>Trees_assessed_Intensity</td>\n",
       "      <td>92.0</td>\n",
       "    </tr>\n",
       "    <tr>\n",
       "      <th>2</th>\n",
       "      <td>2017</td>\n",
       "      <td>EGXU</td>\n",
       "      <td>Leptocybe</td>\n",
       "      <td>Trees_assessed_Intensity</td>\n",
       "      <td>98.0</td>\n",
       "    </tr>\n",
       "    <tr>\n",
       "      <th>3</th>\n",
       "      <td>2017</td>\n",
       "      <td>EGRA</td>\n",
       "      <td>Leptocybe</td>\n",
       "      <td>Trees_assessed_Intensity</td>\n",
       "      <td>100.0</td>\n",
       "    </tr>\n",
       "    <tr>\n",
       "      <th>4</th>\n",
       "      <td>2017</td>\n",
       "      <td>EGXU</td>\n",
       "      <td>Leptocybe</td>\n",
       "      <td>Climate_Zone</td>\n",
       "      <td>100.0</td>\n",
       "    </tr>\n",
       "  </tbody>\n",
       "</table>\n",
       "</div>"
      ],
      "text/plain": [
       "   Year Species Lepto_Presence              DataCleaning  % Infestation\n",
       "0  2017    EGRA      Leptocybe  Trees_assessed_Intensity           72.0\n",
       "1  2017    EGXC      Leptocybe  Trees_assessed_Intensity           92.0\n",
       "2  2017    EGXU      Leptocybe  Trees_assessed_Intensity           98.0\n",
       "3  2017    EGRA      Leptocybe  Trees_assessed_Intensity          100.0\n",
       "4  2017    EGXU      Leptocybe              Climate_Zone          100.0"
      ]
     },
     "execution_count": 10,
     "metadata": {},
     "output_type": "execute_result"
    }
   ],
   "source": [
    "leptoData = read_from_drive('https://drive.google.com/file/d/159PqHZQeiMbybwg6kf-ltgmR5TbuzxPy/view?usp=sharing')\n",
    "leptoData.head()"
   ]
  },
  {
   "cell_type": "code",
   "execution_count": 11,
   "metadata": {},
   "outputs": [
    {
     "name": "stdout",
     "output_type": "stream",
     "text": [
      "Leptocybe per year\n",
      "Year\n",
      "2016     72\n",
      "2017     46\n",
      "2018    134\n",
      "2019    187\n",
      "2020    126\n",
      "2021    182\n",
      "dtype: int64\n",
      "Average count for Leptocybe and No Leptocybe per Year: 124.5\n",
      "Total count for Leptocybe and No Leptocybe: 747\n",
      "Min Leptocybe: 46\n",
      "Max Leptocybe: 187\n"
     ]
    }
   ],
   "source": [
    "leptoPerYear = leptoData.groupby(['Year']).size()\n",
    "print('Leptocybe per year')\n",
    "print(leptoPerYear)\n",
    "\n",
    "print(\"Average count for Leptocybe and No Leptocybe per Year:\",sum(leptoPerYear)/len(leptoPerYear))\n",
    "print(\"Total count for Leptocybe and No Leptocybe:\",len(leptoData))\n",
    "print(\"Min Leptocybe:\", min(leptoPerYear))\n",
    "print(\"Max Leptocybe:\", max(leptoPerYear))\n"
   ]
  },
  {
   "cell_type": "code",
   "execution_count": 12,
   "metadata": {},
   "outputs": [
    {
     "name": "stdout",
     "output_type": "stream",
     "text": [
      "Average for Leptocybe positive per Year: 40.0%\n"
     ]
    }
   ],
   "source": [
    "leptoPresence = leptoData[leptoData['Lepto_Presence'] == 'Leptocybe']\n",
    "\n",
    "\n",
    "leptoPerYearPresence = leptoPresence.groupby(['Year']).size()\n",
    "leptoComp = leptoPerYearPresence/leptoPerYear*100\n",
    "print(\"Average for Leptocybe positive per Year:\",str(round(sum(leptoComp)/len(leptoComp),0)) + '%')"
   ]
  },
  {
   "cell_type": "code",
   "execution_count": 13,
   "metadata": {},
   "outputs": [
    {
     "data": {
      "text/plain": [
       "DataCleaning\n",
       "Climate_Zone                351\n",
       "Latitude                      1\n",
       "Plantation name              23\n",
       "Trees_assessed_Intensity    213\n",
       "dtype: int64"
      ]
     },
     "execution_count": 13,
     "metadata": {},
     "output_type": "execute_result"
    }
   ],
   "source": [
    "leptoData.groupby(['DataCleaning']).size()"
   ]
  },
  {
   "cell_type": "markdown",
   "metadata": {},
   "source": [
    "### 1.3.1 GPS inspection location and pest presence\n",
    "#### Figure 7: Leptocybe inspection distribution\n",
    "\n",
    "Feed data into QGIS and plot spatially using the province shapefile as base layer.\n",
    "\n",
    "The QGIS project file (used to generate the maps in the report) has not been uploaded to GitHub due to the joint requirement of the pest data's GPS coordinates to be uploaded. This data is confidential and has been requested by the industry partner to be kept as such."
   ]
  },
  {
   "cell_type": "markdown",
   "metadata": {},
   "source": [
    "### 1.3.2 Leptocybe intensity\n",
    "#### Figure 8: Leptocybe intensity vs total rainfall"
   ]
  },
  {
   "cell_type": "code",
   "execution_count": 14,
   "metadata": {},
   "outputs": [
    {
     "data": {
      "text/html": [
       "<div>\n",
       "<style scoped>\n",
       "    .dataframe tbody tr th:only-of-type {\n",
       "        vertical-align: middle;\n",
       "    }\n",
       "\n",
       "    .dataframe tbody tr th {\n",
       "        vertical-align: top;\n",
       "    }\n",
       "\n",
       "    .dataframe thead th {\n",
       "        text-align: right;\n",
       "    }\n",
       "</style>\n",
       "<table border=\"1\" class=\"dataframe\">\n",
       "  <thead>\n",
       "    <tr style=\"text-align: right;\">\n",
       "      <th></th>\n",
       "      <th>% Infestation</th>\n",
       "    </tr>\n",
       "    <tr>\n",
       "      <th>Year</th>\n",
       "      <th></th>\n",
       "    </tr>\n",
       "  </thead>\n",
       "  <tbody>\n",
       "    <tr>\n",
       "      <th>2016</th>\n",
       "      <td>5.509259</td>\n",
       "    </tr>\n",
       "    <tr>\n",
       "      <th>2017</th>\n",
       "      <td>41.782609</td>\n",
       "    </tr>\n",
       "    <tr>\n",
       "      <th>2018</th>\n",
       "      <td>15.054726</td>\n",
       "    </tr>\n",
       "    <tr>\n",
       "      <th>2019</th>\n",
       "      <td>30.406417</td>\n",
       "    </tr>\n",
       "    <tr>\n",
       "      <th>2020</th>\n",
       "      <td>21.514991</td>\n",
       "    </tr>\n",
       "    <tr>\n",
       "      <th>2021</th>\n",
       "      <td>17.102612</td>\n",
       "    </tr>\n",
       "  </tbody>\n",
       "</table>\n",
       "</div>"
      ],
      "text/plain": [
       "      % Infestation\n",
       "Year               \n",
       "2016       5.509259\n",
       "2017      41.782609\n",
       "2018      15.054726\n",
       "2019      30.406417\n",
       "2020      21.514991\n",
       "2021      17.102612"
      ]
     },
     "execution_count": 14,
     "metadata": {},
     "output_type": "execute_result"
    }
   ],
   "source": [
    "leptoIntensity = leptoData.groupby(['Year']).mean()\n",
    "leptoIntensity"
   ]
  },
  {
   "cell_type": "code",
   "execution_count": 15,
   "metadata": {},
   "outputs": [
    {
     "data": {
      "text/html": [
       "<div>\n",
       "<style scoped>\n",
       "    .dataframe tbody tr th:only-of-type {\n",
       "        vertical-align: middle;\n",
       "    }\n",
       "\n",
       "    .dataframe tbody tr th {\n",
       "        vertical-align: top;\n",
       "    }\n",
       "\n",
       "    .dataframe thead th {\n",
       "        text-align: right;\n",
       "    }\n",
       "</style>\n",
       "<table border=\"1\" class=\"dataframe\">\n",
       "  <thead>\n",
       "    <tr style=\"text-align: right;\">\n",
       "      <th></th>\n",
       "      <th>avg_station_rainfall</th>\n",
       "      <th>date</th>\n",
       "    </tr>\n",
       "  </thead>\n",
       "  <tbody>\n",
       "    <tr>\n",
       "      <th>0</th>\n",
       "      <td>135.026796</td>\n",
       "      <td>2000-01-01</td>\n",
       "    </tr>\n",
       "    <tr>\n",
       "      <th>1</th>\n",
       "      <td>156.509181</td>\n",
       "      <td>2000-02-01</td>\n",
       "    </tr>\n",
       "    <tr>\n",
       "      <th>2</th>\n",
       "      <td>129.175189</td>\n",
       "      <td>2000-03-01</td>\n",
       "    </tr>\n",
       "    <tr>\n",
       "      <th>3</th>\n",
       "      <td>52.004579</td>\n",
       "      <td>2000-04-01</td>\n",
       "    </tr>\n",
       "    <tr>\n",
       "      <th>4</th>\n",
       "      <td>41.089435</td>\n",
       "      <td>2000-05-01</td>\n",
       "    </tr>\n",
       "  </tbody>\n",
       "</table>\n",
       "</div>"
      ],
      "text/plain": [
       "   avg_station_rainfall        date\n",
       "0            135.026796  2000-01-01\n",
       "1            156.509181  2000-02-01\n",
       "2            129.175189  2000-03-01\n",
       "3             52.004579  2000-04-01\n",
       "4             41.089435  2000-05-01"
      ]
     },
     "execution_count": 15,
     "metadata": {},
     "output_type": "execute_result"
    }
   ],
   "source": [
    "rainfallLast10Years = read_from_drive('https://drive.google.com/file/d/1YAmptC4Mc1Ck1nbU9ebXl4563H1m3axt/view?usp=sharing')\n",
    "rainfallLast10Years.head()"
   ]
  },
  {
   "cell_type": "code",
   "execution_count": 16,
   "metadata": {},
   "outputs": [
    {
     "data": {
      "text/html": [
       "<div>\n",
       "<style scoped>\n",
       "    .dataframe tbody tr th:only-of-type {\n",
       "        vertical-align: middle;\n",
       "    }\n",
       "\n",
       "    .dataframe tbody tr th {\n",
       "        vertical-align: top;\n",
       "    }\n",
       "\n",
       "    .dataframe thead th {\n",
       "        text-align: right;\n",
       "    }\n",
       "</style>\n",
       "<table border=\"1\" class=\"dataframe\">\n",
       "  <thead>\n",
       "    <tr style=\"text-align: right;\">\n",
       "      <th></th>\n",
       "      <th>avg_station_rainfall</th>\n",
       "    </tr>\n",
       "    <tr>\n",
       "      <th>date</th>\n",
       "      <th></th>\n",
       "    </tr>\n",
       "  </thead>\n",
       "  <tbody>\n",
       "    <tr>\n",
       "      <th>2015</th>\n",
       "      <td>339.753572</td>\n",
       "    </tr>\n",
       "    <tr>\n",
       "      <th>2016</th>\n",
       "      <td>670.286116</td>\n",
       "    </tr>\n",
       "    <tr>\n",
       "      <th>2017</th>\n",
       "      <td>409.702168</td>\n",
       "    </tr>\n",
       "    <tr>\n",
       "      <th>2018</th>\n",
       "      <td>257.437587</td>\n",
       "    </tr>\n",
       "    <tr>\n",
       "      <th>2019</th>\n",
       "      <td>403.132151</td>\n",
       "    </tr>\n",
       "  </tbody>\n",
       "</table>\n",
       "</div>"
      ],
      "text/plain": [
       "      avg_station_rainfall\n",
       "date                      \n",
       "2015            339.753572\n",
       "2016            670.286116\n",
       "2017            409.702168\n",
       "2018            257.437587\n",
       "2019            403.132151"
      ]
     },
     "execution_count": 16,
     "metadata": {},
     "output_type": "execute_result"
    }
   ],
   "source": [
    "\n",
    "rainfallLast10Years.index = pd.to_datetime(rainfallLast10Years['date'])\n",
    "rainfallLast10YearsGrouped = rainfallLast10Years.groupby(by=[rainfallLast10Years.index.year]).sum()\n",
    "rainfallLast10YearsFrom2015 = rainfallLast10YearsGrouped[rainfallLast10YearsGrouped.index >2014]\n",
    "rainfallLast10YearsFrom2015"
   ]
  },
  {
   "cell_type": "code",
   "execution_count": 17,
   "metadata": {},
   "outputs": [
    {
     "data": {
      "image/png": "[encoded data removed]",
      "text/plain": [
       "<Figure size 576x115.2 with 2 Axes>"
      ]
     },
     "metadata": {
      "needs_background": "light"
     },
     "output_type": "display_data"
    }
   ],
   "source": [
    "fig,ax = plt.subplots(figsize =(8, 1.6))\n",
    "\n",
    "line1 = ax.plot(leptoIntensity.index, leptoIntensity, color=\"#00bb38\", marker=\"o\", label = '% Infestation')\n",
    "ax.set_xlabel(\"Year\",fontsize=14)\n",
    "ax.set_ylabel(\"% Infestation\",color=\"#00bb38\",fontsize=14)\n",
    "ax.legend(loc='lower left')\n",
    "\n",
    "# twin object for two different y-axis on the sample plot\n",
    "ax2=ax.twinx()\n",
    "line2 = ax2.plot(rainfallLast10YearsFrom2015.index, rainfallLast10YearsFrom2015,color=\"black\",marker=\"o\",label='Total Rainfall')\n",
    "ax2.set_ylabel(\"Total Rainfall(mm)\",color=\"black\",fontsize=14)\n",
    "plt.grid(axis='y', alpha=0.75)\n",
    "ax2.legend(loc='lower right')\n",
    "plt.show()"
   ]
  },
  {
   "cell_type": "markdown",
   "metadata": {},
   "source": [
    "### 1.3.3 Tree species and Leptocybe prevalence\n",
    "#### Figure 9: Leptocybe prevalence per tree species"
   ]
  },
  {
   "cell_type": "code",
   "execution_count": 18,
   "metadata": {},
   "outputs": [
    {
     "data": {
      "text/html": [
       "<div>\n",
       "<style scoped>\n",
       "    .dataframe tbody tr th:only-of-type {\n",
       "        vertical-align: middle;\n",
       "    }\n",
       "\n",
       "    .dataframe tbody tr th {\n",
       "        vertical-align: top;\n",
       "    }\n",
       "\n",
       "    .dataframe thead th {\n",
       "        text-align: right;\n",
       "    }\n",
       "</style>\n",
       "<table border=\"1\" class=\"dataframe\">\n",
       "  <thead>\n",
       "    <tr style=\"text-align: right;\">\n",
       "      <th></th>\n",
       "      <th>Species</th>\n",
       "      <th>Trees_Leptocybe</th>\n",
       "      <th>Trees_NoLeptocybe</th>\n",
       "    </tr>\n",
       "  </thead>\n",
       "  <tbody>\n",
       "    <tr>\n",
       "      <th>0</th>\n",
       "      <td>EGRA</td>\n",
       "      <td>36</td>\n",
       "      <td>14</td>\n",
       "    </tr>\n",
       "    <tr>\n",
       "      <th>1</th>\n",
       "      <td>EGXC</td>\n",
       "      <td>46</td>\n",
       "      <td>4</td>\n",
       "    </tr>\n",
       "    <tr>\n",
       "      <th>2</th>\n",
       "      <td>EGXU</td>\n",
       "      <td>49</td>\n",
       "      <td>1</td>\n",
       "    </tr>\n",
       "    <tr>\n",
       "      <th>3</th>\n",
       "      <td>EGRA</td>\n",
       "      <td>50</td>\n",
       "      <td>0</td>\n",
       "    </tr>\n",
       "    <tr>\n",
       "      <th>4</th>\n",
       "      <td>EGXU</td>\n",
       "      <td>50</td>\n",
       "      <td>0</td>\n",
       "    </tr>\n",
       "  </tbody>\n",
       "</table>\n",
       "</div>"
      ],
      "text/plain": [
       "  Species  Trees_Leptocybe  Trees_NoLeptocybe\n",
       "0    EGRA               36                 14\n",
       "1    EGXC               46                  4\n",
       "2    EGXU               49                  1\n",
       "3    EGRA               50                  0\n",
       "4    EGXU               50                  0"
      ]
     },
     "execution_count": 18,
     "metadata": {},
     "output_type": "execute_result"
    }
   ],
   "source": [
    "leptoSpecies = read_from_drive('https://drive.google.com/file/d/1ewSTBLkiZWW0xoC6TXrNKXP4aYq-_w-S/view?usp=sharing')\n",
    "leptoSpecies.head()"
   ]
  },
  {
   "cell_type": "code",
   "execution_count": 19,
   "metadata": {},
   "outputs": [
    {
     "data": {
      "text/html": [
       "<div>\n",
       "<style scoped>\n",
       "    .dataframe tbody tr th:only-of-type {\n",
       "        vertical-align: middle;\n",
       "    }\n",
       "\n",
       "    .dataframe tbody tr th {\n",
       "        vertical-align: top;\n",
       "    }\n",
       "\n",
       "    .dataframe thead th {\n",
       "        text-align: right;\n",
       "    }\n",
       "</style>\n",
       "<table border=\"1\" class=\"dataframe\">\n",
       "  <thead>\n",
       "    <tr style=\"text-align: right;\">\n",
       "      <th></th>\n",
       "      <th>Trees_Leptocybe</th>\n",
       "      <th>Trees_NoLeptocybe</th>\n",
       "    </tr>\n",
       "    <tr>\n",
       "      <th>Species</th>\n",
       "      <th></th>\n",
       "      <th></th>\n",
       "    </tr>\n",
       "  </thead>\n",
       "  <tbody>\n",
       "    <tr>\n",
       "      <th>EGXN</th>\n",
       "      <td>3394</td>\n",
       "      <td>5579</td>\n",
       "    </tr>\n",
       "    <tr>\n",
       "      <th>EGRA</th>\n",
       "      <td>2320</td>\n",
       "      <td>3835</td>\n",
       "    </tr>\n",
       "    <tr>\n",
       "      <th>EGXU</th>\n",
       "      <td>389</td>\n",
       "      <td>6127</td>\n",
       "    </tr>\n",
       "    <tr>\n",
       "      <th>EDUN</th>\n",
       "      <td>110</td>\n",
       "      <td>6181</td>\n",
       "    </tr>\n",
       "    <tr>\n",
       "      <th>EGXC</th>\n",
       "      <td>53</td>\n",
       "      <td>77</td>\n",
       "    </tr>\n",
       "    <tr>\n",
       "      <th>EUXG</th>\n",
       "      <td>50</td>\n",
       "      <td>10</td>\n",
       "    </tr>\n",
       "    <tr>\n",
       "      <th>ENIT</th>\n",
       "      <td>43</td>\n",
       "      <td>907</td>\n",
       "    </tr>\n",
       "    <tr>\n",
       "      <th>ESAL</th>\n",
       "      <td>37</td>\n",
       "      <td>213</td>\n",
       "    </tr>\n",
       "    <tr>\n",
       "      <th>ESMI</th>\n",
       "      <td>27</td>\n",
       "      <td>956</td>\n",
       "    </tr>\n",
       "    <tr>\n",
       "      <th>EBEN</th>\n",
       "      <td>2</td>\n",
       "      <td>1334</td>\n",
       "    </tr>\n",
       "    <tr>\n",
       "      <th>EBAD</th>\n",
       "      <td>0</td>\n",
       "      <td>100</td>\n",
       "    </tr>\n",
       "    <tr>\n",
       "      <th>ECLO</th>\n",
       "      <td>0</td>\n",
       "      <td>50</td>\n",
       "    </tr>\n",
       "    <tr>\n",
       "      <th>EMAC</th>\n",
       "      <td>0</td>\n",
       "      <td>850</td>\n",
       "    </tr>\n",
       "  </tbody>\n",
       "</table>\n",
       "</div>"
      ],
      "text/plain": [
       "         Trees_Leptocybe  Trees_NoLeptocybe\n",
       "Species                                    \n",
       "EGXN                3394               5579\n",
       "EGRA                2320               3835\n",
       "EGXU                 389               6127\n",
       "EDUN                 110               6181\n",
       "EGXC                  53                 77\n",
       "EUXG                  50                 10\n",
       "ENIT                  43                907\n",
       "ESAL                  37                213\n",
       "ESMI                  27                956\n",
       "EBEN                   2               1334\n",
       "EBAD                   0                100\n",
       "ECLO                   0                 50\n",
       "EMAC                   0                850"
      ]
     },
     "execution_count": 19,
     "metadata": {},
     "output_type": "execute_result"
    }
   ],
   "source": [
    "speciesGrouped = leptoSpecies.groupby(['Species']).sum()\n",
    "speciesGrouped = speciesGrouped.sort_values(['Trees_Leptocybe'], ascending = False)\n",
    "speciesGrouped"
   ]
  },
  {
   "cell_type": "code",
   "execution_count": 20,
   "metadata": {},
   "outputs": [
    {
     "data": {
      "text/plain": [
       "<matplotlib.legend.Legend at 0x17aa0ec1b80>"
      ]
     },
     "execution_count": 20,
     "metadata": {},
     "output_type": "execute_result"
    },
    {
     "data": {
      "image/png": "[encoded data removed]",
      "text/plain": [
       "<Figure size 576x115.2 with 1 Axes>"
      ]
     },
     "metadata": {
      "needs_background": "light"
     },
     "output_type": "display_data"
    }
   ],
   "source": [
    "barWidth = 0.25\n",
    "fig = plt.subplots(figsize =(8, 1.6))\n",
    "plt.rcParams[\"font.family\"] = \"Times New Roman\"\n",
    "\n",
    "# Set position of bar on X axis\n",
    "br1 = np.arange(len(speciesGrouped))\n",
    "br2 = [x + barWidth for x in br1]\n",
    " \n",
    "# Make the plot\n",
    "plt.bar(br1, speciesGrouped['Trees_Leptocybe'], color ='#00bb38', width = barWidth,edgecolor ='grey', label ='Leptocybe')\n",
    "plt.bar(br2, speciesGrouped['Trees_NoLeptocybe'], color ='grey', width = barWidth,edgecolor ='grey', label ='No Leptocybe') \n",
    "\n",
    "plt.xlabel('Species', fontsize = 12)\n",
    "plt.ylabel('No. of Stems', fontsize = 12)\n",
    "plt.xticks([r + barWidth for r in range(len(speciesGrouped))],speciesGrouped.index)\n",
    "plt.grid(axis='y', alpha=0.75)\n",
    " \n",
    "plt.legend()\n",
    "# plt.savefig(f'{FIGURE_PATH}SirexStemsPerSpecies.png')"
   ]
  },
  {
   "cell_type": "markdown",
   "metadata": {},
   "source": [
    "# 2. DISCUSSION"
   ]
  },
  {
   "cell_type": "markdown",
   "metadata": {},
   "source": [
    "#### Figure 10: Weather Station Distribution vs. Pest Distribution\n",
    "\n",
    "Feed data into QGIS and plot spatially using the province shapefile as base layer.\n",
    "\n",
    "The QGIS project file (used to generate the maps in the report) has not been uploaded to GitHub due to the joint requirement of the pest data's GPS coordinates to be uploaded. This data is confidential and has been requested by the industry partner to be kept as such.\n",
    "\n",
    "#### Figure 11: Weather Station Distribution vs. Pest Distribution"
   ]
  },
  {
   "cell_type": "code",
   "execution_count": 21,
   "metadata": {},
   "outputs": [
    {
     "data": {
      "text/html": [
       "<div>\n",
       "<style scoped>\n",
       "    .dataframe tbody tr th:only-of-type {\n",
       "        vertical-align: middle;\n",
       "    }\n",
       "\n",
       "    .dataframe tbody tr th {\n",
       "        vertical-align: top;\n",
       "    }\n",
       "\n",
       "    .dataframe thead th {\n",
       "        text-align: right;\n",
       "    }\n",
       "</style>\n",
       "<table border=\"1\" class=\"dataframe\">\n",
       "  <thead>\n",
       "    <tr style=\"text-align: right;\">\n",
       "      <th></th>\n",
       "      <th>Id</th>\n",
       "      <th>StationId</th>\n",
       "      <th>Distance</th>\n",
       "      <th>Pest</th>\n",
       "    </tr>\n",
       "  </thead>\n",
       "  <tbody>\n",
       "    <tr>\n",
       "      <th>0</th>\n",
       "      <td>1</td>\n",
       "      <td>1067</td>\n",
       "      <td>2674.477709</td>\n",
       "      <td>Leptocybe</td>\n",
       "    </tr>\n",
       "    <tr>\n",
       "      <th>1</th>\n",
       "      <td>2</td>\n",
       "      <td>5178</td>\n",
       "      <td>1637.429214</td>\n",
       "      <td>Leptocybe</td>\n",
       "    </tr>\n",
       "    <tr>\n",
       "      <th>2</th>\n",
       "      <td>3</td>\n",
       "      <td>5606</td>\n",
       "      <td>1690.019513</td>\n",
       "      <td>Leptocybe</td>\n",
       "    </tr>\n",
       "    <tr>\n",
       "      <th>3</th>\n",
       "      <td>4</td>\n",
       "      <td>5173</td>\n",
       "      <td>1270.956844</td>\n",
       "      <td>Leptocybe</td>\n",
       "    </tr>\n",
       "    <tr>\n",
       "      <th>4</th>\n",
       "      <td>5</td>\n",
       "      <td>5190</td>\n",
       "      <td>1658.605062</td>\n",
       "      <td>Leptocybe</td>\n",
       "    </tr>\n",
       "  </tbody>\n",
       "</table>\n",
       "</div>"
      ],
      "text/plain": [
       "   Id  StationId     Distance       Pest\n",
       "0   1       1067  2674.477709  Leptocybe\n",
       "1   2       5178  1637.429214  Leptocybe\n",
       "2   3       5606  1690.019513  Leptocybe\n",
       "3   4       5173  1270.956844  Leptocybe\n",
       "4   5       5190  1658.605062  Leptocybe"
      ]
     },
     "execution_count": 21,
     "metadata": {},
     "output_type": "execute_result"
    }
   ],
   "source": [
    "distance = read_from_drive('https://drive.google.com/file/d/1OcthOhvr-SLYIX8M6w-irMOjFkK_WUGu/view?usp=sharing')\n",
    "distance.head()"
   ]
  },
  {
   "cell_type": "code",
   "execution_count": 22,
   "metadata": {},
   "outputs": [
    {
     "data": {
      "image/png": "[encoded data removed]",
      "text/plain": [
       "<Figure size 576x288 with 1 Axes>"
      ]
     },
     "metadata": {
      "needs_background": "light"
     },
     "output_type": "display_data"
    }
   ],
   "source": [
    "distanceS = distance[distance['Pest'] =='Sirex']\n",
    "distanceL = distance[distance['Pest'] =='Leptocybe']\n",
    "\n",
    "ds = distanceS['Distance'] /1000\n",
    "dl = distanceL['Distance'] /1000\n",
    "bins = np.linspace(0, 20, 40)\n",
    "\n",
    "averageS = sum(ds)/len(ds)\n",
    "averageL = sum(dl)/len(dl)\n",
    "\n",
    "plt.rcParams[\"figure.figsize\"] = [8, 4]\n",
    "plt.rcParams.update({'font.size': 12})\n",
    "sline = plt.axvline(x=averageS,color='brown', linestyle='--', label = 'Sirex average at ' + str(round(averageS,2)) + ' km')\n",
    "lline = plt.axvline(x=averageL,color='darkgreen', linestyle='--',label = 'Leptocybe average at ' + str(round(averageL,2)) + ' km')\n",
    "plt.legend(handles = [sline,lline])\n",
    "\n",
    "plt.hist([ds, dl], bins, label=['Sirex', 'Leptocybe'], color=['#f8766d','#54b402'])\n",
    "\n",
    "plt.legend(loc='upper right')\n",
    "plt.grid(axis='y', alpha=0.75)\n",
    "plt.xlabel('Distance to closest weather station (km)')\n",
    "plt.ylabel('Frequency')\n",
    "plt.ylim(ymax=450)\n",
    "plt.show()\n",
    "\n",
    "\n",
    "# plt.savefig(f'{FIGURE_PATH}distance.png')\n"
   ]
  },
  {
   "cell_type": "markdown",
   "metadata": {},
   "source": [
    "#### Figure 12: Voronoi Diagram\n",
    "\n",
    "Feed data into QGIS and plot spatially using weather stations, and pest datasets. Use QGIS function to generate Voronoi Diagrams.\n",
    "\n",
    "The QGIS project file (used to generate the maps in the report) has not been uploaded to GitHub due to the joint requirement of the pest data's GPS coordinates to be uploaded. This data is confidential and has been requested by the industry partner to be kept as such."
   ]
  }
 ],
 "metadata": {
  "interpreter": {
   "hash": "f339fb3a027be473131e6ac829b8dc34fc7d4e2b227bdb2c2c5f9829538e0fed"
  },
  "kernelspec": {
   "display_name": "Python 3.8.8 ('base')",
   "language": "python",
   "name": "python3"
  },
  "language_info": {
   "codemirror_mode": {
    "name": "ipython",
    "version": 3
   },
   "file_extension": ".py",
   "mimetype": "text/x-python",
   "name": "python",
   "nbconvert_exporter": "python",
   "pygments_lexer": "ipython3",
   "version": "3.9.1"
  },
  "orig_nbformat": 4
 },
 "nbformat": 4,
 "nbformat_minor": 2
}
