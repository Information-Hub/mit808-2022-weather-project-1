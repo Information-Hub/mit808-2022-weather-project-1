{
 "cells": [
  {
   "cell_type": "markdown",
   "metadata": {},
   "source": [
    "# Notebook layout"
   ]
  },
  {
   "cell_type": "markdown",
   "metadata": {},
   "source": [
    "Note the user can activate 'Run All', however, some parts of the code have been commented out due to the requirement of all the supplied data for the particular code - which is confidential in nature and cannot be uploaded to a shared drive. The processed data, that retains confidentiality, has been loaded into the code at various stages to allow notebook functionality.\n",
    "\n",
    "The notebook contains the following sections that refer to the Modelling report layout for Group 13:\n",
    "- 1.4 Unsupervised Methods\n",
    "    - 1.4.1 Gaussian Mixture Modelling\n",
    "- 1.5 Supervised Methods\n",
    "    - 1.5.1 Support Vector Machine\n",
    "    - 1.5.2 XGBoost\n",
    "- 1.6 PCS Check\n",
    "    - 1.6.1 Model Stability\n",
    "    - 1.6.3 Model Evaluation"
   ]
  },
  {
   "cell_type": "code",
   "execution_count": 1,
   "metadata": {},
   "outputs": [
    {
     "name": "stdout",
     "output_type": "stream",
     "text": [
      "/Users/connormcdonald/Desktop/Masters/MIT808/mit808-2022-project-significant-outliers-1/reports/figures/\n",
      "/Users/connormcdonald/Desktop/Masters/MIT808/mit808-2022-project-significant-outliers-1/models/\n"
     ]
    }
   ],
   "source": [
    "import os\n",
    "os.path.abspath(os.curdir)\n",
    "os.chdir(\"..\")\n",
    "REPO_PATH = os.path.abspath(os.curdir)\n",
    "FIGURE_PATH = REPO_PATH + '/reports/figures/'\n",
    "print(FIGURE_PATH)\n",
    "\n",
    "MODEL_PATH = REPO_PATH + '/models/'\n",
    "print(MODEL_PATH)"
   ]
  },
  {
   "cell_type": "markdown",
   "metadata": {},
   "source": [
    "### Importing Libraries"
   ]
  },
  {
   "cell_type": "code",
   "execution_count": 2,
   "metadata": {},
   "outputs": [],
   "source": [
    "#General Libraries\n",
    "import pandas as pd\n",
    "import seaborn as sns\n",
    "import numpy as np\n",
    "import matplotlib.pyplot as plt\n",
    "from functions import *\n",
    "\n",
    "#Model Libraries\n",
    "from sklearn.preprocessing import StandardScaler\n",
    "from sklearn.cluster import KMeans\n",
    "from sklearn.mixture import GaussianMixture\n",
    "from sklearn.decomposition import PCA\n",
    "from sklearn.model_selection import train_test_split, cross_val_score, GridSearchCV\n",
    "from sklearn.svm import SVC\n",
    "from xgboost import XGBClassifier, plot_importance\n",
    "import pickle\n",
    "from sklearn.metrics import plot_confusion_matrix, plot_roc_curve, silhouette_score"
   ]
  },
  {
   "cell_type": "markdown",
   "metadata": {},
   "source": [
    "### 1.4 Unsupervised Methods"
   ]
  },
  {
   "cell_type": "code",
   "execution_count": 3,
   "metadata": {},
   "outputs": [
    {
     "data": {
      "text/html": [
       "<div>\n",
       "<style scoped>\n",
       "    .dataframe tbody tr th:only-of-type {\n",
       "        vertical-align: middle;\n",
       "    }\n",
       "\n",
       "    .dataframe tbody tr th {\n",
       "        vertical-align: top;\n",
       "    }\n",
       "\n",
       "    .dataframe thead th {\n",
       "        text-align: right;\n",
       "    }\n",
       "</style>\n",
       "<table border=\"1\" class=\"dataframe\">\n",
       "  <thead>\n",
       "    <tr style=\"text-align: right;\">\n",
       "      <th></th>\n",
       "      <th>Unnamed: 0</th>\n",
       "      <th>Id</th>\n",
       "      <th>Timeframe</th>\n",
       "      <th>Year</th>\n",
       "      <th>Sirex_Presence</th>\n",
       "      <th>rainfalldiff</th>\n",
       "      <th>rainfall</th>\n",
       "      <th>rainfallavg</th>\n",
       "      <th>temperature_maxdiff</th>\n",
       "      <th>temperature_max</th>\n",
       "      <th>temperature_maxavg</th>\n",
       "      <th>temperature_mindiff</th>\n",
       "      <th>temperature_min</th>\n",
       "      <th>temperature_minavg</th>\n",
       "      <th>temperature_diffdiff</th>\n",
       "      <th>temperature_diff</th>\n",
       "      <th>temperature_diffavg</th>\n",
       "      <th>sirex_bin</th>\n",
       "    </tr>\n",
       "  </thead>\n",
       "  <tbody>\n",
       "    <tr>\n",
       "      <th>0</th>\n",
       "      <td>0</td>\n",
       "      <td>392</td>\n",
       "      <td>1</td>\n",
       "      <td>2012</td>\n",
       "      <td>No Sirex</td>\n",
       "      <td>-64.017647</td>\n",
       "      <td>189.9</td>\n",
       "      <td>253.917647</td>\n",
       "      <td>2.981476</td>\n",
       "      <td>30.054839</td>\n",
       "      <td>27.073363</td>\n",
       "      <td>2.164076</td>\n",
       "      <td>20.309677</td>\n",
       "      <td>18.145601</td>\n",
       "      <td>0.817400</td>\n",
       "      <td>9.745161</td>\n",
       "      <td>8.927761</td>\n",
       "      <td>0</td>\n",
       "    </tr>\n",
       "    <tr>\n",
       "      <th>1</th>\n",
       "      <td>1</td>\n",
       "      <td>391</td>\n",
       "      <td>1</td>\n",
       "      <td>2012</td>\n",
       "      <td>No Sirex</td>\n",
       "      <td>-64.017647</td>\n",
       "      <td>189.9</td>\n",
       "      <td>253.917647</td>\n",
       "      <td>2.981476</td>\n",
       "      <td>30.054839</td>\n",
       "      <td>27.073363</td>\n",
       "      <td>2.164076</td>\n",
       "      <td>20.309677</td>\n",
       "      <td>18.145601</td>\n",
       "      <td>0.817400</td>\n",
       "      <td>9.745161</td>\n",
       "      <td>8.927761</td>\n",
       "      <td>0</td>\n",
       "    </tr>\n",
       "    <tr>\n",
       "      <th>2</th>\n",
       "      <td>2</td>\n",
       "      <td>390</td>\n",
       "      <td>1</td>\n",
       "      <td>2012</td>\n",
       "      <td>No Sirex</td>\n",
       "      <td>-67.923188</td>\n",
       "      <td>189.9</td>\n",
       "      <td>257.823188</td>\n",
       "      <td>2.981476</td>\n",
       "      <td>30.054839</td>\n",
       "      <td>27.073363</td>\n",
       "      <td>2.164076</td>\n",
       "      <td>20.309677</td>\n",
       "      <td>18.145601</td>\n",
       "      <td>0.817400</td>\n",
       "      <td>9.745161</td>\n",
       "      <td>8.927761</td>\n",
       "      <td>0</td>\n",
       "    </tr>\n",
       "    <tr>\n",
       "      <th>3</th>\n",
       "      <td>3</td>\n",
       "      <td>389</td>\n",
       "      <td>1</td>\n",
       "      <td>2012</td>\n",
       "      <td>No Sirex</td>\n",
       "      <td>166.217391</td>\n",
       "      <td>295.2</td>\n",
       "      <td>128.982609</td>\n",
       "      <td>2.851955</td>\n",
       "      <td>30.054839</td>\n",
       "      <td>27.202884</td>\n",
       "      <td>2.847556</td>\n",
       "      <td>20.309677</td>\n",
       "      <td>17.462121</td>\n",
       "      <td>0.004399</td>\n",
       "      <td>9.745161</td>\n",
       "      <td>9.740762</td>\n",
       "      <td>0</td>\n",
       "    </tr>\n",
       "    <tr>\n",
       "      <th>4</th>\n",
       "      <td>4</td>\n",
       "      <td>388</td>\n",
       "      <td>1</td>\n",
       "      <td>2012</td>\n",
       "      <td>No Sirex</td>\n",
       "      <td>71.920588</td>\n",
       "      <td>314.0</td>\n",
       "      <td>242.079412</td>\n",
       "      <td>1.874780</td>\n",
       "      <td>30.054839</td>\n",
       "      <td>28.180059</td>\n",
       "      <td>1.750440</td>\n",
       "      <td>20.309677</td>\n",
       "      <td>18.559238</td>\n",
       "      <td>0.124340</td>\n",
       "      <td>9.745161</td>\n",
       "      <td>9.620821</td>\n",
       "      <td>0</td>\n",
       "    </tr>\n",
       "  </tbody>\n",
       "</table>\n",
       "</div>"
      ],
      "text/plain": [
       "   Unnamed: 0   Id  Timeframe  Year Sirex_Presence  rainfalldiff  rainfall  \\\n",
       "0           0  392          1  2012       No Sirex    -64.017647     189.9   \n",
       "1           1  391          1  2012       No Sirex    -64.017647     189.9   \n",
       "2           2  390          1  2012       No Sirex    -67.923188     189.9   \n",
       "3           3  389          1  2012       No Sirex    166.217391     295.2   \n",
       "4           4  388          1  2012       No Sirex     71.920588     314.0   \n",
       "\n",
       "   rainfallavg  temperature_maxdiff  temperature_max  temperature_maxavg  \\\n",
       "0   253.917647             2.981476        30.054839           27.073363   \n",
       "1   253.917647             2.981476        30.054839           27.073363   \n",
       "2   257.823188             2.981476        30.054839           27.073363   \n",
       "3   128.982609             2.851955        30.054839           27.202884   \n",
       "4   242.079412             1.874780        30.054839           28.180059   \n",
       "\n",
       "   temperature_mindiff  temperature_min  temperature_minavg  \\\n",
       "0             2.164076        20.309677           18.145601   \n",
       "1             2.164076        20.309677           18.145601   \n",
       "2             2.164076        20.309677           18.145601   \n",
       "3             2.847556        20.309677           17.462121   \n",
       "4             1.750440        20.309677           18.559238   \n",
       "\n",
       "   temperature_diffdiff  temperature_diff  temperature_diffavg  sirex_bin  \n",
       "0              0.817400          9.745161             8.927761          0  \n",
       "1              0.817400          9.745161             8.927761          0  \n",
       "2              0.817400          9.745161             8.927761          0  \n",
       "3              0.004399          9.745161             9.740762          0  \n",
       "4              0.124340          9.745161             9.620821          0  "
      ]
     },
     "execution_count": 3,
     "metadata": {},
     "output_type": "execute_result"
    }
   ],
   "source": [
    "#Reading data in\n",
    "df = read_from_drive('https://drive.google.com/file/d/1nM4cA8AReB7OJaZUfl04tdSioDnyuKpZ/view?usp=sharing')\n",
    "df['sirex_bin'] = pd.Series(np.where(df.Sirex_Presence.values == 'Sirex', 1, 0),df.index)\n",
    "df.head()"
   ]
  },
  {
   "cell_type": "code",
   "execution_count": 4,
   "metadata": {},
   "outputs": [],
   "source": [
    "#Standardizing variables\n",
    "df[['Timeframe', 'rainfalldiff', 'rainfall', 'rainfallavg', 'temperature_maxdiff', 'temperature_max', 'temperature_maxavg', 'temperature_mindiff', 'temperature_min', 'temperature_minavg', 'temperature_diffdiff', 'temperature_diff', 'temperature_diffavg']]= StandardScaler().fit_transform(df[['Timeframe', 'rainfalldiff', 'rainfall', 'rainfallavg', 'temperature_maxdiff', 'temperature_max', 'temperature_maxavg', 'temperature_mindiff', 'temperature_min', 'temperature_minavg', 'temperature_diffdiff', 'temperature_diff', 'temperature_diffavg']])"
   ]
  },
  {
   "cell_type": "code",
   "execution_count": 5,
   "metadata": {},
   "outputs": [],
   "source": [
    "#Creating Subsets\n",
    "X = df.iloc[:, [2, 5, 6, 7, 8, 9, 10, 11, 12, 13, 14, 15, 16]].values\n",
    "X1 = df.iloc[:, [2, 5, 6, 7, 8, 9, 10, 11, 12, 13, 14, 15, 16, 17]].values\n",
    "Y = df.iloc[:, [17]].values"
   ]
  },
  {
   "cell_type": "code",
   "execution_count": 6,
   "metadata": {},
   "outputs": [
    {
     "data": {
      "image/png": "[encoded data removed]",
      "text/plain": [
       "<Figure size 432x288 with 1 Axes>"
      ]
     },
     "metadata": {
      "needs_background": "light"
     },
     "output_type": "display_data"
    }
   ],
   "source": [
    "#finding optimal number of cluster with Kmeans and elbow method\n",
    "wcss = []\n",
    "for i in range(1, 11):\n",
    "    kmeans = KMeans(n_clusters = i, init = 'k-means++', random_state = 42)\n",
    "    kmeans.fit(X)\n",
    "    wcss.append(kmeans.inertia_)\n",
    "plt.plot(range(1, 11), wcss)\n",
    "plt.title('The Elbow Method')\n",
    "plt.xlabel('Number of clusters')\n",
    "plt.ylabel('WCSS')\n",
    "plt.show()"
   ]
  },
  {
   "cell_type": "code",
   "execution_count": 7,
   "metadata": {},
   "outputs": [
    {
     "name": "stdout",
     "output_type": "stream",
     "text": [
      "silhouette score: 0.1256229743621016\n"
     ]
    }
   ],
   "source": [
    "#Training Gaussian Mixture Model\n",
    "\n",
    "y_GMM = GaussianMixture(n_components=4, random_state=0).fit_predict(X)\n",
    "\n",
    "score = silhouette_score(X,y_GMM, metric='euclidean')\n",
    "print(f\"silhouette score: {score}\")"
   ]
  },
  {
   "cell_type": "code",
   "execution_count": 8,
   "metadata": {},
   "outputs": [
    {
     "data": {
      "text/html": [
       "<div>\n",
       "<style scoped>\n",
       "    .dataframe tbody tr th:only-of-type {\n",
       "        vertical-align: middle;\n",
       "    }\n",
       "\n",
       "    .dataframe tbody tr th {\n",
       "        vertical-align: top;\n",
       "    }\n",
       "\n",
       "    .dataframe thead th {\n",
       "        text-align: right;\n",
       "    }\n",
       "</style>\n",
       "<table border=\"1\" class=\"dataframe\">\n",
       "  <thead>\n",
       "    <tr style=\"text-align: right;\">\n",
       "      <th></th>\n",
       "      <th>Unnamed: 0</th>\n",
       "      <th>Id</th>\n",
       "      <th>Timeframe</th>\n",
       "      <th>Year</th>\n",
       "      <th>Sirex_Presence</th>\n",
       "      <th>rainfalldiff</th>\n",
       "      <th>rainfall</th>\n",
       "      <th>rainfallavg</th>\n",
       "      <th>temperature_maxdiff</th>\n",
       "      <th>temperature_max</th>\n",
       "      <th>temperature_maxavg</th>\n",
       "      <th>temperature_mindiff</th>\n",
       "      <th>temperature_min</th>\n",
       "      <th>temperature_minavg</th>\n",
       "      <th>temperature_diffdiff</th>\n",
       "      <th>temperature_diff</th>\n",
       "      <th>temperature_diffavg</th>\n",
       "      <th>sirex_bin</th>\n",
       "      <th>gcluster</th>\n",
       "    </tr>\n",
       "  </thead>\n",
       "  <tbody>\n",
       "    <tr>\n",
       "      <th>0</th>\n",
       "      <td>0</td>\n",
       "      <td>392</td>\n",
       "      <td>-1.696335</td>\n",
       "      <td>2012</td>\n",
       "      <td>No Sirex</td>\n",
       "      <td>-1.022089</td>\n",
       "      <td>1.340657</td>\n",
       "      <td>3.053670</td>\n",
       "      <td>0.660419</td>\n",
       "      <td>1.878909</td>\n",
       "      <td>1.543658</td>\n",
       "      <td>0.306615</td>\n",
       "      <td>1.915089</td>\n",
       "      <td>1.814772</td>\n",
       "      <td>0.351449</td>\n",
       "      <td>-0.848805</td>\n",
       "      <td>-1.276303</td>\n",
       "      <td>0</td>\n",
       "      <td>2</td>\n",
       "    </tr>\n",
       "    <tr>\n",
       "      <th>1</th>\n",
       "      <td>1</td>\n",
       "      <td>391</td>\n",
       "      <td>-1.696335</td>\n",
       "      <td>2012</td>\n",
       "      <td>No Sirex</td>\n",
       "      <td>-1.022089</td>\n",
       "      <td>1.340657</td>\n",
       "      <td>3.053670</td>\n",
       "      <td>0.660419</td>\n",
       "      <td>1.878909</td>\n",
       "      <td>1.543658</td>\n",
       "      <td>0.306615</td>\n",
       "      <td>1.915089</td>\n",
       "      <td>1.814772</td>\n",
       "      <td>0.351449</td>\n",
       "      <td>-0.848805</td>\n",
       "      <td>-1.276303</td>\n",
       "      <td>0</td>\n",
       "      <td>2</td>\n",
       "    </tr>\n",
       "    <tr>\n",
       "      <th>2</th>\n",
       "      <td>2</td>\n",
       "      <td>390</td>\n",
       "      <td>-1.696335</td>\n",
       "      <td>2012</td>\n",
       "      <td>No Sirex</td>\n",
       "      <td>-1.086881</td>\n",
       "      <td>1.340657</td>\n",
       "      <td>3.122602</td>\n",
       "      <td>0.660419</td>\n",
       "      <td>1.878909</td>\n",
       "      <td>1.543658</td>\n",
       "      <td>0.306615</td>\n",
       "      <td>1.915089</td>\n",
       "      <td>1.814772</td>\n",
       "      <td>0.351449</td>\n",
       "      <td>-0.848805</td>\n",
       "      <td>-1.276303</td>\n",
       "      <td>0</td>\n",
       "      <td>2</td>\n",
       "    </tr>\n",
       "    <tr>\n",
       "      <th>3</th>\n",
       "      <td>3</td>\n",
       "      <td>389</td>\n",
       "      <td>-1.696335</td>\n",
       "      <td>2012</td>\n",
       "      <td>No Sirex</td>\n",
       "      <td>2.797447</td>\n",
       "      <td>2.607838</td>\n",
       "      <td>0.848604</td>\n",
       "      <td>0.607483</td>\n",
       "      <td>1.878909</td>\n",
       "      <td>1.590125</td>\n",
       "      <td>0.575872</td>\n",
       "      <td>1.915089</td>\n",
       "      <td>1.645060</td>\n",
       "      <td>0.008009</td>\n",
       "      <td>-0.848805</td>\n",
       "      <td>-0.931287</td>\n",
       "      <td>0</td>\n",
       "      <td>2</td>\n",
       "    </tr>\n",
       "    <tr>\n",
       "      <th>4</th>\n",
       "      <td>4</td>\n",
       "      <td>388</td>\n",
       "      <td>-1.696335</td>\n",
       "      <td>2012</td>\n",
       "      <td>No Sirex</td>\n",
       "      <td>1.233089</td>\n",
       "      <td>2.834077</td>\n",
       "      <td>2.844729</td>\n",
       "      <td>0.208109</td>\n",
       "      <td>1.878909</td>\n",
       "      <td>1.940697</td>\n",
       "      <td>0.143663</td>\n",
       "      <td>1.915089</td>\n",
       "      <td>1.917481</td>\n",
       "      <td>0.058677</td>\n",
       "      <td>-0.848805</td>\n",
       "      <td>-0.982187</td>\n",
       "      <td>0</td>\n",
       "      <td>2</td>\n",
       "    </tr>\n",
       "  </tbody>\n",
       "</table>\n",
       "</div>"
      ],
      "text/plain": [
       "   Unnamed: 0   Id  Timeframe  Year Sirex_Presence  rainfalldiff  rainfall  \\\n",
       "0           0  392  -1.696335  2012       No Sirex     -1.022089  1.340657   \n",
       "1           1  391  -1.696335  2012       No Sirex     -1.022089  1.340657   \n",
       "2           2  390  -1.696335  2012       No Sirex     -1.086881  1.340657   \n",
       "3           3  389  -1.696335  2012       No Sirex      2.797447  2.607838   \n",
       "4           4  388  -1.696335  2012       No Sirex      1.233089  2.834077   \n",
       "\n",
       "   rainfallavg  temperature_maxdiff  temperature_max  temperature_maxavg  \\\n",
       "0     3.053670             0.660419         1.878909            1.543658   \n",
       "1     3.053670             0.660419         1.878909            1.543658   \n",
       "2     3.122602             0.660419         1.878909            1.543658   \n",
       "3     0.848604             0.607483         1.878909            1.590125   \n",
       "4     2.844729             0.208109         1.878909            1.940697   \n",
       "\n",
       "   temperature_mindiff  temperature_min  temperature_minavg  \\\n",
       "0             0.306615         1.915089            1.814772   \n",
       "1             0.306615         1.915089            1.814772   \n",
       "2             0.306615         1.915089            1.814772   \n",
       "3             0.575872         1.915089            1.645060   \n",
       "4             0.143663         1.915089            1.917481   \n",
       "\n",
       "   temperature_diffdiff  temperature_diff  temperature_diffavg  sirex_bin  \\\n",
       "0              0.351449         -0.848805            -1.276303          0   \n",
       "1              0.351449         -0.848805            -1.276303          0   \n",
       "2              0.351449         -0.848805            -1.276303          0   \n",
       "3              0.008009         -0.848805            -0.931287          0   \n",
       "4              0.058677         -0.848805            -0.982187          0   \n",
       "\n",
       "   gcluster  \n",
       "0         2  \n",
       "1         2  \n",
       "2         2  \n",
       "3         2  \n",
       "4         2  "
      ]
     },
     "execution_count": 8,
     "metadata": {},
     "output_type": "execute_result"
    }
   ],
   "source": [
    "#Creating new column with Gaussian Clusters\n",
    "df['gcluster'] = y_GMM\n",
    "df.head()"
   ]
  },
  {
   "cell_type": "code",
   "execution_count": 9,
   "metadata": {},
   "outputs": [
    {
     "data": {
      "image/png": "[encoded data removed]",
      "text/plain": [
       "<Figure size 432x288 with 1 Axes>"
      ]
     },
     "metadata": {
      "needs_background": "light"
     },
     "output_type": "display_data"
    }
   ],
   "source": [
    "#Plotting pest presence per cluster\n",
    "\n",
    "ax = sns.countplot(data=df,x='gcluster',hue='sirex_bin')\n",
    "for p in ax.patches:\n",
    "   ax.annotate(f'{p.get_height()}', (p.get_x(), p.get_height()+100))"
   ]
  },
  {
   "cell_type": "markdown",
   "metadata": {},
   "source": [
    "### Principle Component Analysis\n",
    "- Note: this was done to see if the clustering would be improved. The results were not any better, therefore it was ignored in the report"
   ]
  },
  {
   "cell_type": "code",
   "execution_count": 1,
   "metadata": {},
   "outputs": [
    {
     "ename": "NameError",
     "evalue": "name 'read_from_drive' is not defined",
     "output_type": "error",
     "traceback": [
      "\u001b[0;31m---------------------------------------------------------------------------\u001b[0m",
      "\u001b[0;31mNameError\u001b[0m                                 Traceback (most recent call last)",
      "\u001b[0;32m<ipython-input-1-36b23c81be74>\u001b[0m in \u001b[0;36m<module>\u001b[0;34m\u001b[0m\n\u001b[1;32m      1\u001b[0m \u001b[0;31m#Reading data in\u001b[0m\u001b[0;34m\u001b[0m\u001b[0;34m\u001b[0m\u001b[0;34m\u001b[0m\u001b[0m\n\u001b[0;32m----> 2\u001b[0;31m \u001b[0mdf\u001b[0m \u001b[0;34m=\u001b[0m \u001b[0mread_from_drive\u001b[0m\u001b[0;34m(\u001b[0m\u001b[0;34m'https://drive.google.com/file/d/1nM4cA8AReB7OJaZUfl04tdSioDnyuKpZ/view?usp=sharing'\u001b[0m\u001b[0;34m)\u001b[0m\u001b[0;34m\u001b[0m\u001b[0;34m\u001b[0m\u001b[0m\n\u001b[0m\u001b[1;32m      3\u001b[0m \u001b[0mdf\u001b[0m\u001b[0;34m[\u001b[0m\u001b[0;34m'sirex_bin'\u001b[0m\u001b[0;34m]\u001b[0m \u001b[0;34m=\u001b[0m \u001b[0mpd\u001b[0m\u001b[0;34m.\u001b[0m\u001b[0mSeries\u001b[0m\u001b[0;34m(\u001b[0m\u001b[0mnp\u001b[0m\u001b[0;34m.\u001b[0m\u001b[0mwhere\u001b[0m\u001b[0;34m(\u001b[0m\u001b[0mdf\u001b[0m\u001b[0;34m.\u001b[0m\u001b[0mSirex_Presence\u001b[0m\u001b[0;34m.\u001b[0m\u001b[0mvalues\u001b[0m \u001b[0;34m==\u001b[0m \u001b[0;34m'Sirex'\u001b[0m\u001b[0;34m,\u001b[0m \u001b[0;36m1\u001b[0m\u001b[0;34m,\u001b[0m \u001b[0;36m0\u001b[0m\u001b[0;34m)\u001b[0m\u001b[0;34m,\u001b[0m\u001b[0mdf\u001b[0m\u001b[0;34m.\u001b[0m\u001b[0mindex\u001b[0m\u001b[0;34m)\u001b[0m\u001b[0;34m\u001b[0m\u001b[0;34m\u001b[0m\u001b[0m\n\u001b[1;32m      4\u001b[0m \u001b[0mdf\u001b[0m\u001b[0;34m.\u001b[0m\u001b[0mhead\u001b[0m\u001b[0;34m(\u001b[0m\u001b[0;34m)\u001b[0m\u001b[0;34m\u001b[0m\u001b[0;34m\u001b[0m\u001b[0m\n",
      "\u001b[0;31mNameError\u001b[0m: name 'read_from_drive' is not defined"
     ]
    }
   ],
   "source": [
    "#Reading data in\n",
    "df = read_from_drive('https://drive.google.com/file/d/1nM4cA8AReB7OJaZUfl04tdSioDnyuKpZ/view?usp=sharing')\n",
    "df['sirex_bin'] = pd.Series(np.where(df.Sirex_Presence.values == 'Sirex', 1, 0),df.index)\n",
    "df.head()"
   ]
  },
  {
   "cell_type": "code",
   "execution_count": 11,
   "metadata": {},
   "outputs": [],
   "source": [
    "#Standardizing variables\n",
    "df[['Timeframe', 'rainfalldiff', 'rainfall', 'rainfallavg', 'temperature_maxdiff', 'temperature_max', 'temperature_maxavg', 'temperature_mindiff', 'temperature_min', 'temperature_minavg', 'temperature_diffdiff', 'temperature_diff', 'temperature_diffavg']]= StandardScaler().fit_transform(df[['Timeframe', 'rainfalldiff', 'rainfall', 'rainfallavg', 'temperature_maxdiff', 'temperature_max', 'temperature_maxavg', 'temperature_mindiff', 'temperature_min', 'temperature_minavg', 'temperature_diffdiff', 'temperature_diff', 'temperature_diffavg']])"
   ]
  },
  {
   "cell_type": "code",
   "execution_count": 12,
   "metadata": {},
   "outputs": [],
   "source": [
    "# Separating out the features\n",
    "x = df.iloc[:, [2, 5, 6, 7, 8, 9, 10, 11, 12, 13, 14, 15, 16]].values\n",
    "\n",
    "# Separating out the target\n",
    "y = df.iloc[:, [17]].values"
   ]
  },
  {
   "cell_type": "code",
   "execution_count": 13,
   "metadata": {},
   "outputs": [],
   "source": [
    "#Performing PCA\n",
    "\n",
    "pca = PCA(n_components=2)\n",
    "principalComponents = pca.fit_transform(x)\n",
    "pDf = pd.DataFrame(data = principalComponents,columns = ['pc1', 'pc2'])"
   ]
  },
  {
   "cell_type": "code",
   "execution_count": 14,
   "metadata": {},
   "outputs": [
    {
     "data": {
      "text/html": [
       "<div>\n",
       "<style scoped>\n",
       "    .dataframe tbody tr th:only-of-type {\n",
       "        vertical-align: middle;\n",
       "    }\n",
       "\n",
       "    .dataframe tbody tr th {\n",
       "        vertical-align: top;\n",
       "    }\n",
       "\n",
       "    .dataframe thead th {\n",
       "        text-align: right;\n",
       "    }\n",
       "</style>\n",
       "<table border=\"1\" class=\"dataframe\">\n",
       "  <thead>\n",
       "    <tr style=\"text-align: right;\">\n",
       "      <th></th>\n",
       "      <th>pc1</th>\n",
       "      <th>pc2</th>\n",
       "      <th>sirex</th>\n",
       "    </tr>\n",
       "  </thead>\n",
       "  <tbody>\n",
       "    <tr>\n",
       "      <th>0</th>\n",
       "      <td>4.905620</td>\n",
       "      <td>-1.386085</td>\n",
       "      <td>0</td>\n",
       "    </tr>\n",
       "    <tr>\n",
       "      <th>1</th>\n",
       "      <td>4.905620</td>\n",
       "      <td>-1.386085</td>\n",
       "      <td>0</td>\n",
       "    </tr>\n",
       "    <tr>\n",
       "      <th>2</th>\n",
       "      <td>4.927248</td>\n",
       "      <td>-1.408001</td>\n",
       "      <td>0</td>\n",
       "    </tr>\n",
       "    <tr>\n",
       "      <th>3</th>\n",
       "      <td>4.582499</td>\n",
       "      <td>0.451836</td>\n",
       "      <td>0</td>\n",
       "    </tr>\n",
       "    <tr>\n",
       "      <th>4</th>\n",
       "      <td>5.549410</td>\n",
       "      <td>0.220341</td>\n",
       "      <td>0</td>\n",
       "    </tr>\n",
       "  </tbody>\n",
       "</table>\n",
       "</div>"
      ],
      "text/plain": [
       "        pc1       pc2  sirex\n",
       "0  4.905620 -1.386085      0\n",
       "1  4.905620 -1.386085      0\n",
       "2  4.927248 -1.408001      0\n",
       "3  4.582499  0.451836      0\n",
       "4  5.549410  0.220341      0"
      ]
     },
     "execution_count": 14,
     "metadata": {},
     "output_type": "execute_result"
    }
   ],
   "source": [
    "#Adding target column to result dataframe\n",
    "\n",
    "pDf['sirex'] = y\n",
    "pDf.head()"
   ]
  },
  {
   "cell_type": "code",
   "execution_count": 15,
   "metadata": {},
   "outputs": [],
   "source": [
    "#Creating Subsets\n",
    "X = pDf.iloc[:, [0,1]].values\n",
    "X1 = pDf.iloc[:, [0,1,2]].values\n",
    "Y = pDf.iloc[:, [2]].values"
   ]
  },
  {
   "cell_type": "code",
   "execution_count": 16,
   "metadata": {},
   "outputs": [
    {
     "data": {
      "image/png": "[encoded data removed]",
      "text/plain": [
       "<Figure size 432x288 with 1 Axes>"
      ]
     },
     "metadata": {
      "needs_background": "light"
     },
     "output_type": "display_data"
    }
   ],
   "source": [
    "#Finding optimal number of clusters for Gaussian mixture model\n",
    "\n",
    "wcss = []\n",
    "for i in range(1, 11):\n",
    "    kmeans = KMeans(n_clusters = i, init = 'k-means++', random_state = 42)\n",
    "    kmeans.fit(X)\n",
    "    wcss.append(kmeans.inertia_)\n",
    "plt.plot(range(1, 11), wcss)\n",
    "plt.title('The Elbow Method')\n",
    "plt.xlabel('Number of clusters')\n",
    "plt.ylabel('WCSS')\n",
    "plt.show()"
   ]
  },
  {
   "cell_type": "code",
   "execution_count": 17,
   "metadata": {},
   "outputs": [],
   "source": [
    "#Creating Gaussian mixture model with PCA\n",
    "\n",
    "GMM = GaussianMixture(n_components=5, random_state=42)\n",
    "\n",
    "y_GMM = GMM.fit_predict(X)\n",
    "\n",
    "# score = silhouette_score(X,y_GMM, metric='euclidean')\n",
    "# print(f\"silhouette score: {score}\")\n",
    "pDf['gcluster'] = y_GMM"
   ]
  },
  {
   "cell_type": "code",
   "execution_count": 18,
   "metadata": {},
   "outputs": [
    {
     "data": {
      "text/plain": [
       "Text(0.5, 1.0, 'Gaussian Clustering w/ PCA')"
      ]
     },
     "execution_count": 18,
     "metadata": {},
     "output_type": "execute_result"
    },
    {
     "data": {
      "image/png": "[encoded data removed]",
      "text/plain": [
       "<Figure size 432x288 with 2 Axes>"
      ]
     },
     "metadata": {
      "needs_background": "light"
     },
     "output_type": "display_data"
    }
   ],
   "source": [
    "#Plotting clusters\n",
    "\n",
    "pDf.plot(kind='scatter', x='pc1', y='pc2', c='gcluster', cmap='viridis')\n",
    "plt.xlabel('PC1')\n",
    "plt.ylabel('PC2')\n",
    "plt.title('Gaussian Clustering w/ PCA')"
   ]
  },
  {
   "cell_type": "code",
   "execution_count": 19,
   "metadata": {},
   "outputs": [
    {
     "data": {
      "image/png": "[encoded data removed]",
      "text/plain": [
       "<Figure size 432x288 with 1 Axes>"
      ]
     },
     "metadata": {
      "needs_background": "light"
     },
     "output_type": "display_data"
    }
   ],
   "source": [
    "#Plotting pest presence per cluster\n",
    "\n",
    "ax = sns.countplot(data=pDf,x='gcluster',hue='sirex')\n",
    "for p in ax.patches:\n",
    "   ax.annotate(f'{p.get_height()}', (p.get_x(), p.get_height()+1000))"
   ]
  },
  {
   "cell_type": "markdown",
   "metadata": {},
   "source": [
    "### 1.5 Supervised Methods"
   ]
  },
  {
   "cell_type": "code",
   "execution_count": 3,
   "metadata": {},
   "outputs": [
    {
     "data": {
      "text/html": [
       "<div>\n",
       "<style scoped>\n",
       "    .dataframe tbody tr th:only-of-type {\n",
       "        vertical-align: middle;\n",
       "    }\n",
       "\n",
       "    .dataframe tbody tr th {\n",
       "        vertical-align: top;\n",
       "    }\n",
       "\n",
       "    .dataframe thead th {\n",
       "        text-align: right;\n",
       "    }\n",
       "</style>\n",
       "<table border=\"1\" class=\"dataframe\">\n",
       "  <thead>\n",
       "    <tr style=\"text-align: right;\">\n",
       "      <th></th>\n",
       "      <th>Unnamed: 0</th>\n",
       "      <th>Id</th>\n",
       "      <th>Timeframe</th>\n",
       "      <th>Year</th>\n",
       "      <th>Sirex_Presence</th>\n",
       "      <th>rainfalldiff</th>\n",
       "      <th>rainfall</th>\n",
       "      <th>rainfallavg</th>\n",
       "      <th>temperature_maxdiff</th>\n",
       "      <th>temperature_max</th>\n",
       "      <th>temperature_maxavg</th>\n",
       "      <th>temperature_mindiff</th>\n",
       "      <th>temperature_min</th>\n",
       "      <th>temperature_minavg</th>\n",
       "      <th>temperature_diffdiff</th>\n",
       "      <th>temperature_diff</th>\n",
       "      <th>temperature_diffavg</th>\n",
       "      <th>sirex_bin</th>\n",
       "    </tr>\n",
       "  </thead>\n",
       "  <tbody>\n",
       "    <tr>\n",
       "      <th>0</th>\n",
       "      <td>0</td>\n",
       "      <td>392</td>\n",
       "      <td>1</td>\n",
       "      <td>2012</td>\n",
       "      <td>No Sirex</td>\n",
       "      <td>-64.017647</td>\n",
       "      <td>189.9</td>\n",
       "      <td>253.917647</td>\n",
       "      <td>2.981476</td>\n",
       "      <td>30.054839</td>\n",
       "      <td>27.073363</td>\n",
       "      <td>2.164076</td>\n",
       "      <td>20.309677</td>\n",
       "      <td>18.145601</td>\n",
       "      <td>0.817400</td>\n",
       "      <td>9.745161</td>\n",
       "      <td>8.927761</td>\n",
       "      <td>0</td>\n",
       "    </tr>\n",
       "    <tr>\n",
       "      <th>1</th>\n",
       "      <td>1</td>\n",
       "      <td>391</td>\n",
       "      <td>1</td>\n",
       "      <td>2012</td>\n",
       "      <td>No Sirex</td>\n",
       "      <td>-64.017647</td>\n",
       "      <td>189.9</td>\n",
       "      <td>253.917647</td>\n",
       "      <td>2.981476</td>\n",
       "      <td>30.054839</td>\n",
       "      <td>27.073363</td>\n",
       "      <td>2.164076</td>\n",
       "      <td>20.309677</td>\n",
       "      <td>18.145601</td>\n",
       "      <td>0.817400</td>\n",
       "      <td>9.745161</td>\n",
       "      <td>8.927761</td>\n",
       "      <td>0</td>\n",
       "    </tr>\n",
       "    <tr>\n",
       "      <th>2</th>\n",
       "      <td>2</td>\n",
       "      <td>390</td>\n",
       "      <td>1</td>\n",
       "      <td>2012</td>\n",
       "      <td>No Sirex</td>\n",
       "      <td>-67.923188</td>\n",
       "      <td>189.9</td>\n",
       "      <td>257.823188</td>\n",
       "      <td>2.981476</td>\n",
       "      <td>30.054839</td>\n",
       "      <td>27.073363</td>\n",
       "      <td>2.164076</td>\n",
       "      <td>20.309677</td>\n",
       "      <td>18.145601</td>\n",
       "      <td>0.817400</td>\n",
       "      <td>9.745161</td>\n",
       "      <td>8.927761</td>\n",
       "      <td>0</td>\n",
       "    </tr>\n",
       "    <tr>\n",
       "      <th>3</th>\n",
       "      <td>3</td>\n",
       "      <td>389</td>\n",
       "      <td>1</td>\n",
       "      <td>2012</td>\n",
       "      <td>No Sirex</td>\n",
       "      <td>166.217391</td>\n",
       "      <td>295.2</td>\n",
       "      <td>128.982609</td>\n",
       "      <td>2.851955</td>\n",
       "      <td>30.054839</td>\n",
       "      <td>27.202884</td>\n",
       "      <td>2.847556</td>\n",
       "      <td>20.309677</td>\n",
       "      <td>17.462121</td>\n",
       "      <td>0.004399</td>\n",
       "      <td>9.745161</td>\n",
       "      <td>9.740762</td>\n",
       "      <td>0</td>\n",
       "    </tr>\n",
       "    <tr>\n",
       "      <th>4</th>\n",
       "      <td>4</td>\n",
       "      <td>388</td>\n",
       "      <td>1</td>\n",
       "      <td>2012</td>\n",
       "      <td>No Sirex</td>\n",
       "      <td>71.920588</td>\n",
       "      <td>314.0</td>\n",
       "      <td>242.079412</td>\n",
       "      <td>1.874780</td>\n",
       "      <td>30.054839</td>\n",
       "      <td>28.180059</td>\n",
       "      <td>1.750440</td>\n",
       "      <td>20.309677</td>\n",
       "      <td>18.559238</td>\n",
       "      <td>0.124340</td>\n",
       "      <td>9.745161</td>\n",
       "      <td>9.620821</td>\n",
       "      <td>0</td>\n",
       "    </tr>\n",
       "  </tbody>\n",
       "</table>\n",
       "</div>"
      ],
      "text/plain": [
       "   Unnamed: 0   Id  Timeframe  Year Sirex_Presence  rainfalldiff  rainfall  \\\n",
       "0           0  392          1  2012       No Sirex    -64.017647     189.9   \n",
       "1           1  391          1  2012       No Sirex    -64.017647     189.9   \n",
       "2           2  390          1  2012       No Sirex    -67.923188     189.9   \n",
       "3           3  389          1  2012       No Sirex    166.217391     295.2   \n",
       "4           4  388          1  2012       No Sirex     71.920588     314.0   \n",
       "\n",
       "   rainfallavg  temperature_maxdiff  temperature_max  temperature_maxavg  \\\n",
       "0   253.917647             2.981476        30.054839           27.073363   \n",
       "1   253.917647             2.981476        30.054839           27.073363   \n",
       "2   257.823188             2.981476        30.054839           27.073363   \n",
       "3   128.982609             2.851955        30.054839           27.202884   \n",
       "4   242.079412             1.874780        30.054839           28.180059   \n",
       "\n",
       "   temperature_mindiff  temperature_min  temperature_minavg  \\\n",
       "0             2.164076        20.309677           18.145601   \n",
       "1             2.164076        20.309677           18.145601   \n",
       "2             2.164076        20.309677           18.145601   \n",
       "3             2.847556        20.309677           17.462121   \n",
       "4             1.750440        20.309677           18.559238   \n",
       "\n",
       "   temperature_diffdiff  temperature_diff  temperature_diffavg  sirex_bin  \n",
       "0              0.817400          9.745161             8.927761          0  \n",
       "1              0.817400          9.745161             8.927761          0  \n",
       "2              0.817400          9.745161             8.927761          0  \n",
       "3              0.004399          9.745161             9.740762          0  \n",
       "4              0.124340          9.745161             9.620821          0  "
      ]
     },
     "execution_count": 3,
     "metadata": {},
     "output_type": "execute_result"
    }
   ],
   "source": [
    "#Reading data in\n",
    "df = read_from_drive('https://drive.google.com/file/d/1nM4cA8AReB7OJaZUfl04tdSioDnyuKpZ/view?usp=sharing')\n",
    "df['sirex_bin'] = pd.Series(np.where(df.Sirex_Presence.values == 'Sirex', 1, 0),df.index)\n",
    "df.head()"
   ]
  },
  {
   "cell_type": "code",
   "execution_count": 4,
   "metadata": {},
   "outputs": [],
   "source": [
    "#Standardizing variables\n",
    "sc = StandardScaler()\n",
    "df[['Timeframe', 'rainfalldiff', 'rainfall', 'rainfallavg', 'temperature_maxdiff', 'temperature_max', 'temperature_maxavg', 'temperature_mindiff', 'temperature_min', 'temperature_minavg', 'temperature_diffdiff', 'temperature_diff', 'temperature_diffavg']]= sc.fit_transform(df[['Timeframe', 'rainfalldiff', 'rainfall', 'rainfallavg', 'temperature_maxdiff', 'temperature_max', 'temperature_maxavg', 'temperature_mindiff', 'temperature_min', 'temperature_minavg', 'temperature_diffdiff', 'temperature_diff', 'temperature_diffavg']])\n",
    "\n",
    "#Save models\n",
    "file = open(f'{MODEL_PATH}sirex_scaler.pickle','wb')\n",
    "pickle.dump(sc, file)\n",
    "file.close()"
   ]
  },
  {
   "cell_type": "code",
   "execution_count": 5,
   "metadata": {},
   "outputs": [],
   "source": [
    "#Creating Subsets\n",
    "X = df.iloc[:, [2, 5, 6, 7, 8, 9, 10, 11, 12, 13, 14, 15, 16]].values\n",
    "X1 = df.iloc[:, [2, 5, 6, 7, 8, 9, 10, 11, 12, 13, 14, 15, 16, 17]].values\n",
    "Y = df.iloc[:, [17]].values\n",
    "\n",
    "# X = pDf.iloc[:, [0,1]].values\n",
    "# X1 = pDf.iloc[:, [0,1,2]].values\n",
    "# Y = pDf.iloc[:, [2]].values"
   ]
  },
  {
   "cell_type": "code",
   "execution_count": 6,
   "metadata": {},
   "outputs": [],
   "source": [
    "#splitting into training and test set\n",
    "\n",
    "x_train, x_test, y_train, y_test = train_test_split(X, Y, test_size=0.25, random_state=0)\n",
    "scale_pos_weight = np.round(len(Y)/sum(Y),2)[0]"
   ]
  },
  {
   "cell_type": "code",
   "execution_count": 7,
   "metadata": {},
   "outputs": [
    {
     "name": "stderr",
     "output_type": "stream",
     "text": [
      "/Users/connormcdonald/opt/anaconda3/lib/python3.8/site-packages/sklearn/utils/validation.py:63: DataConversionWarning: A column-vector y was passed when a 1d array was expected. Please change the shape of y to (n_samples, ), for example using ravel().\n",
      "  return f(*args, **kwargs)\n"
     ]
    },
    {
     "data": {
      "text/plain": [
       "SVC(C=1, class_weight='balanced', probability=True)"
      ]
     },
     "execution_count": 7,
     "metadata": {},
     "output_type": "execute_result"
    }
   ],
   "source": [
    "#Training models\n",
    "\n",
    "svm = SVC(class_weight ='balanced', C=1, gamma='scale', probability=True)\n",
    "# xg = XGBClassifier(verbosity = 0, scale_pos_weight=scale_pos_weight)\n",
    "\n",
    "svm.fit(x_train, y_train)\n",
    "# xg.fit(x_train, y_train)\n",
    "\n",
    "#Loading models\n",
    "\n",
    "# svm = pickle.load(open(f'{MODEL_PATH}sirex_svm2.pickle', 'rb'))\n",
    "# xg = pickle.load(open(f'{MODEL_PATH}sirex_xgb2.pickle', 'rb'))\n"
   ]
  },
  {
   "cell_type": "code",
   "execution_count": 8,
   "metadata": {},
   "outputs": [],
   "source": [
    "#Save models\n",
    "file = open(f'{MODEL_PATH}sirex_svm2.pickle','wb')\n",
    "pickle.dump(svm, file)\n",
    "file.close()\n",
    "\n",
    "# file = open(f'{MODEL_PATH}sirex_xgb2.pickle','wb')\n",
    "# pickle.dump(xg, file)\n",
    "# file.close()"
   ]
  },
  {
   "cell_type": "markdown",
   "metadata": {},
   "source": [
    "### 1.6.1 Model Stability"
   ]
  },
  {
   "cell_type": "code",
   "execution_count": 26,
   "metadata": {},
   "outputs": [],
   "source": [
    "# saccuracies = cross_val_score(estimator = svm, X = x_train, y = y_train, cv = 3)\n",
    "# print(\"SVM Cross-Validated Accuracy: {:.2f} %\".format(saccuracies.mean()*100))\n",
    "# print(\"SVM Cross-Validated Standard Deviation: {:.2f} %\".format(saccuracies.std()*100))\n",
    "\n",
    "# xaccuracies = cross_val_score(estimator = xg, X = x_train, y = y_train, cv = 3)\n",
    "# print(\"XGBoost Cross-Validated Accuracy: {:.2f} %\".format(xaccuracies.mean()*100))\n",
    "# print(\"XGBoost Cross-Validated Standard Deviation: {:.2f} %\".format(xaccuracies.std()*100))"
   ]
  },
  {
   "cell_type": "markdown",
   "metadata": {},
   "source": [
    "### 1.6.3 Model Evaluation"
   ]
  },
  {
   "cell_type": "code",
   "execution_count": 27,
   "metadata": {},
   "outputs": [
    {
     "data": {
      "image/png": "[encoded data removed]",
      "text/plain": [
       "<Figure size 432x288 with 2 Axes>"
      ]
     },
     "metadata": {
      "needs_background": "light"
     },
     "output_type": "display_data"
    }
   ],
   "source": [
    "plot_confusion_matrix(svm, x_test, y_test)  \n",
    "plt.show()"
   ]
  },
  {
   "cell_type": "code",
   "execution_count": 28,
   "metadata": {},
   "outputs": [
    {
     "data": {
      "image/png": "[encoded data removed]",
      "text/plain": [
       "<Figure size 432x288 with 2 Axes>"
      ]
     },
     "metadata": {
      "needs_background": "light"
     },
     "output_type": "display_data"
    }
   ],
   "source": [
    "plot_confusion_matrix(xg, x_test, y_test)  \n",
    "plt.show()"
   ]
  },
  {
   "cell_type": "code",
   "execution_count": 29,
   "metadata": {},
   "outputs": [
    {
     "data": {
      "image/png": "[encoded data removed]",
      "text/plain": [
       "<Figure size 432x288 with 1 Axes>"
      ]
     },
     "metadata": {
      "needs_background": "light"
     },
     "output_type": "display_data"
    }
   ],
   "source": [
    "svm_roc = plot_roc_curve(svm, x_test, y_test)\n",
    "xg_roc = plot_roc_curve(xg, x_test, y_test, ax=svm_roc.ax_)"
   ]
  },
  {
   "cell_type": "markdown",
   "metadata": {},
   "source": [
    "### Hyperparameter Optimisation"
   ]
  },
  {
   "cell_type": "code",
   "execution_count": null,
   "metadata": {},
   "outputs": [],
   "source": [
    "#SVM Parameter Tuning\n",
    "\n",
    "# parameters = [{'C': [0.25, 0.5, 0.75, 1], 'kernel': ['linear']},\n",
    "#               {'C': [0.25, 0.5, 0.75, 1], 'kernel': ['rbf'], 'gamma': [0.1, 0.2, 0.3, 0.4, 0.5, 0.6, 0.7, 0.8, 0.9]}]\n",
    "# grid_search = GridSearchCV(estimator = svm,\n",
    "#                            param_grid = parameters,\n",
    "#                            scoring = 'roc_auc',\n",
    "#                            cv = 10,\n",
    "#                            n_jobs = -1)\n",
    "# grid_search.fit(x_train, y_train)\n",
    "# best_accuracy = grid_search.best_score_\n",
    "# best_parameters = grid_search.best_params_\n",
    "# print(\"Best Accuracy: {:.2f} %\".format(best_accuracy*100))\n",
    "# print(\"Best Parameters:\", best_parameters)"
   ]
  },
  {
   "cell_type": "code",
   "execution_count": null,
   "metadata": {},
   "outputs": [],
   "source": [
    "#XGBoost Parameter Tuning\n",
    "\n",
    "# parameters = {'gamma': [0,0.1,0.2,0.4,0.8,1.6,3.2,6.4,12.8,25.6,51.2,102.4, 200],\n",
    "#               'learning_rate': [0.01, 0.03, 0.06, 0.1, 0.15, 0.2, 0.25, 0.300000012, 0.4, 0.5, 0.6, 0.7],\n",
    "#               'max_depth': [5,6,7,8,9,10,11,12,13,14],\n",
    "#               'n_estimators': [50,65,80,100,115,130,150],\n",
    "#               'reg_alpha': [0,0.1,0.2,0.4,0.8,1.6,3.2,6.4,12.8,25.6,51.2,102.4,200],\n",
    "#               'reg_lambda': [0,0.1,0.2,0.4,0.8,1.6,3.2,6.4,12.8,25.6,51.2,102.4,200]}\n",
    "\n",
    "\n",
    "# grid_search = GridSearchCV(estimator = xg,\n",
    "#                            param_grid = parameters,\n",
    "#                            scoring = 'roc_auc',\n",
    "#                            cv = 10,\n",
    "#                            n_jobs = -1)\n",
    "# grid_search.fit(x_train, y_train)\n",
    "# best_accuracy = grid_search.best_score_\n",
    "# best_parameters = grid_search.best_params_\n",
    "# print(\"Best Accuracy: {:.2f} %\".format(best_accuracy*100))\n",
    "# print(\"Best Parameters:\", best_parameters)"
   ]
  }
 ],
 "metadata": {
  "interpreter": {
   "hash": "f339fb3a027be473131e6ac829b8dc34fc7d4e2b227bdb2c2c5f9829538e0fed"
  },
  "kernelspec": {
   "display_name": "Python 3.8.8 ('base')",
   "language": "python",
   "name": "python3"
  },
  "language_info": {
   "codemirror_mode": {
    "name": "ipython",
    "version": 3
   },
   "file_extension": ".py",
   "mimetype": "text/x-python",
   "name": "python",
   "nbconvert_exporter": "python",
   "pygments_lexer": "ipython3",
   "version": "3.8.8"
  },
  "orig_nbformat": 4
 },
 "nbformat": 4,
 "nbformat_minor": 2
}
