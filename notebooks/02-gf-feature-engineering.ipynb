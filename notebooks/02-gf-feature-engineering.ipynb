{
 "cells": [
  {
   "cell_type": "markdown",
   "metadata": {},
   "source": [
    "# Notebook layout"
   ]
  },
  {
   "cell_type": "markdown",
   "metadata": {},
   "source": [
    "Note the user can activate 'Run All', however, most parts of the code have been commented out due to the requirement of all the supplied data (including coordinates) for the particular code - which is confidential in nature and cannot be uploaded to a shared drive. The processed data, that retains confidentiality, has been loaded into the code at various stages to allow notebook functionality.\n",
    "\n",
    "The notebook contains the following sections that refer to the Modelling report layout for Group 13:\n",
    "- 1.3 Feature engineering\n",
    "    - Step 1) Classify active weather stations\n",
    "    - Step 2) Match active stations to pests\n",
    "    - Step 3) Calculate average readings per month\n",
    "    - Step 4) Determine actual readings per month\n",
    "    - Step 5) Calculate difference between actual and average readings per month\n",
    "    - Step 6) Format data for modelling"
   ]
  },
  {
   "cell_type": "code",
   "execution_count": 1,
   "metadata": {},
   "outputs": [],
   "source": [
    "import pandas as pd\n",
    "import numpy as np\n",
    "from scipy.spatial import distance_matrix\n",
    "import matplotlib.pyplot as plt\n",
    "from functions import *"
   ]
  },
  {
   "cell_type": "markdown",
   "metadata": {},
   "source": [
    "# Feature Engineering"
   ]
  },
  {
   "cell_type": "markdown",
   "metadata": {},
   "source": [
    "## Preparation"
   ]
  },
  {
   "cell_type": "markdown",
   "metadata": {},
   "source": [
    "Note that the code is run for four parameters: \n",
    "- rainfall, \n",
    "- temperature_max, \n",
    "- temperature_min, and \n",
    "- temperature_diff.\n",
    "\n",
    "Each time the variable of note is uncommented from the cell below, with all other variables of note commented out. "
   ]
  },
  {
   "cell_type": "code",
   "execution_count": 2,
   "metadata": {},
   "outputs": [],
   "source": [
    "variableOfNote = 'rainfall'\n",
    "# variableOfNote = 'temperature_max'\n",
    "# variableOfNote = 'temperature_min'\n",
    "# variableOfNote = 'temperature_diff'\n",
    "\n",
    "exportFolder = 'C:/Users/gf2704928/Documents/_MIT (Desktop)/__DataFor808/Modeling/' + variableOfNote + '/'"
   ]
  },
  {
   "cell_type": "markdown",
   "metadata": {},
   "source": [
    "## Step 1) Classify active weather stations"
   ]
  },
  {
   "cell_type": "markdown",
   "metadata": {},
   "source": [
    "### 1.1) Load weather data"
   ]
  },
  {
   "cell_type": "code",
   "execution_count": 3,
   "metadata": {},
   "outputs": [
    {
     "name": "stdout",
     "output_type": "stream",
     "text": [
      "   Unnamed: 0  index    clim_no  rainfall  record_date  year  month\n",
      "0           0      0  0303391_W         0        32134  1987     12\n",
      "1           1      1  0303391_W         0        32135  1987     12\n",
      "2           2      2  0303391_W         0        32136  1987     12\n",
      "3           3      3  0303391_W         0        32137  1987     12\n",
      "4           4      4  0303391_W         0        32138  1987     12\n"
     ]
    }
   ],
   "source": [
    "# if variableOfNote != 'temperature_diff':\n",
    "#     variableDf = pd.read_csv('C:/Users/gf2704928/Documents/_MIT (Desktop)/__DataFor808/RawData/weather_1950_2019_v3.csv', usecols=[\"clim_no\", variableOfNote, \"record_date\"])    \n",
    "# else:\n",
    "#     variableDf = pd.read_csv('C:/Users/gf2704928/Documents/_MIT (Desktop)/__DataFor808/RawData/weather_1950_2019_v3.csv', usecols=[\"clim_no\", 'temperature_max', 'temperature_min', \"record_date\"])\n",
    "\n",
    "# variableDf[\"record_date\"] = pd.to_datetime(variableDf[\"record_date\"])\n",
    "\n",
    "# if variableOfNote == 'rainfall':\n",
    "#     rainAdditional = pd.read_csv('C:/Users/gf2704928/Documents/_MIT (Desktop)/__DataFor808/RawData/rain_temp2017_2018.csv', usecols=[\"clim_no\", variableOfNote, \"record_date\"])\n",
    "#     rainAdditional[\"record_date\"] = pd.to_datetime(rainAdditional[\"record_date\"], format='%d/%m/%Y')\n",
    "#     variableDf = variableDf.append(rainAdditional)\n",
    "\n",
    "#     variableDf[variableOfNote] = pd.to_numeric(variableDf[variableOfNote])\n",
    "#     variableDf = variableDf[variableDf[variableOfNote] >= 0]\n",
    "\n",
    "# else:\n",
    "#     tempAdditional2017 = pd.read_csv('C:/Users/gf2704928/Documents/_MIT (Desktop)/__DataFor808/RawData/rain_temp2017_2018.csv', usecols=[\"clim_no\", \"Tmax\", \"Tmin\",\"record_date\"])\n",
    "#     tempAdditional2017[\"record_date\"] = pd.to_datetime(tempAdditional2017[\"record_date\"], format='%d/%m/%Y')\n",
    "#     tempAdditional2015 = pd.read_csv('C:/Users/gf2704928/Documents/_MIT (Desktop)/__DataFor808/Modeling/Cumulative2015temp_R01.csv', usecols=[\"clim_no\", \"tmax\",\"tmin\" ,\"record_date\"])\n",
    "#     tempAdditional2015[\"record_date\"] = pd.to_datetime(tempAdditional2015[\"record_date\"], format='%Y-%m-%d')\n",
    "#     tempAdditional2017 = tempAdditional2017.rename(columns = {\"Tmax\":'temperature_max'}) \n",
    "#     tempAdditional2015 = tempAdditional2015.rename(columns = {\"tmax\":'temperature_max'})\n",
    "#     tempAdditional2017 = tempAdditional2017.rename(columns = {\"Tmin\":'temperature_min'}) \n",
    "#     tempAdditional2015 = tempAdditional2015.rename(columns = {\"tmin\":'temperature_min'})\n",
    "    \n",
    "#     if variableOfNote == 'temperature_max':        \n",
    "#         tempAdditional2017 = tempAdditional2017.drop(columns=[\"temperature_min\"])\n",
    "#         tempAdditional2015 = tempAdditional2015.drop(columns=[\"temperature_min\"])\n",
    "#     elif variableOfNote == 'temperature_min':        \n",
    "#         tempAdditional2017 = tempAdditional2017.drop(columns=[\"temperature_max\"])\n",
    "#         tempAdditional2015 = tempAdditional2015.drop(columns=[\"temperature_max\"])\n",
    "    \n",
    "\n",
    "#     variableDf = variableDf.append(tempAdditional2017)\n",
    "#     variableDf = variableDf.append(tempAdditional2015) \n",
    "\n",
    "#     if variableOfNote == 'temperature_diff':\n",
    "#         variableDf['temperature_max'] = pd.to_numeric(variableDf['temperature_max'])\n",
    "#         variableDf = variableDf[variableDf['temperature_max'] != -99.9]\n",
    "\n",
    "#         variableDf['temperature_min'] = pd.to_numeric(variableDf['temperature_min'])\n",
    "#         variableDf = variableDf[variableDf['temperature_min'] != -99.9]\n",
    "\n",
    "#         variableDf['temperature_diff'] = variableDf['temperature_max'] - variableDf['temperature_min']\n",
    "#         variableDf = variableDf.drop(columns=[\"temperature_max\",\"temperature_min\"])\n",
    "#     else:\n",
    "#         variableDf[variableOfNote] = pd.to_numeric(variableDf[variableOfNote])\n",
    "#         variableDf = variableDf[variableDf[variableOfNote] != -99.9]\n",
    "\n",
    "\n",
    "# variableDf = variableDf.drop_duplicates()\n",
    "# variableDf = variableDf.reset_index()\n",
    "# variableDf['year'] = pd.DatetimeIndex(variableDf['record_date']).year\n",
    "# variableDf['month'] = pd.DatetimeIndex(variableDf['record_date']).month\n",
    "\n",
    "# variableDf.head()\n",
    "\n",
    "variableDfexample = read_from_drive('https://drive.google.com/file/d/1fj5oNiVVF55rhM6NSHMNeI44o4ZgJIfI/view?usp=sharing')\n",
    "print(variableDfexample)\n"
   ]
  },
  {
   "cell_type": "markdown",
   "metadata": {},
   "source": [
    "### 1.2) Get number of readings per month per station"
   ]
  },
  {
   "cell_type": "markdown",
   "metadata": {},
   "source": [
    "Ensure that only stations with complete data for the month are considered in the analysis."
   ]
  },
  {
   "cell_type": "code",
   "execution_count": 4,
   "metadata": {},
   "outputs": [
    {
     "name": "stdout",
     "output_type": "stream",
     "text": [
      "Count of reading per month:\n",
      "   Unnamed: 0  year  month    clim_no  count\n",
      "0           0  1950      1  0001517_A     31\n",
      "1           1  1950      1  0001517_W     31\n",
      "2           2  1950      1  0001605_W     31\n",
      "3           3  1950      1  0001726_W     31\n",
      "4           4  1950      1  0001813_W     31\n"
     ]
    }
   ],
   "source": [
    "# readingPerMonthCount = variableDf.groupby([\"year\", \"month\",\"clim_no\"]).size().reset_index(name=\"count\")\n",
    "\n",
    "# # Check for completeness in the data\n",
    "# readingPerMonthCount = (\n",
    "#     #Feb\n",
    "#     readingPerMonthCount[((readingPerMonthCount['month'] == 2) & ((readingPerMonthCount['count'] == 28)|(readingPerMonthCount['count'] == 29))) |\n",
    "#     #30 day months\n",
    "#     (((readingPerMonthCount['month'] == 4) | (readingPerMonthCount['month'] == 6) | (readingPerMonthCount['month'] == 9) |(readingPerMonthCount['month'] == 11)) & (readingPerMonthCount['count'] == 30)) |    \n",
    "#     #31 day months\n",
    "#     (((readingPerMonthCount['month'] == 1) | (readingPerMonthCount['month'] == 3) | (readingPerMonthCount['month'] == 5) |(readingPerMonthCount['month'] == 7)|(readingPerMonthCount['month'] == 8)|(readingPerMonthCount['month'] == 10)|(readingPerMonthCount['month'] == 12)) & (readingPerMonthCount['count'] == 31)) ])\n",
    "\n",
    "# print(readingPerMonthCount.head())\n",
    "# readingPerMonthCount.to_csv(exportFolder + 'readingPerMonthCount.csv')\n",
    "\n",
    "readingPerMonthCountexample = read_from_drive('https://drive.google.com/file/d/1Mfn7D1AFTO-nrDALK--a1ZcMfFMj8cuC/view?usp=sharing')\n",
    "print('Count of reading per month:')\n",
    "print(readingPerMonthCountexample)"
   ]
  },
  {
   "cell_type": "markdown",
   "metadata": {},
   "source": [
    "### 1.3) Aggregate reading per month per station name"
   ]
  },
  {
   "cell_type": "code",
   "execution_count": 5,
   "metadata": {},
   "outputs": [
    {
     "name": "stdout",
     "output_type": "stream",
     "text": [
      "Aggregate reading per month:\n",
      "   Unnamed: 0    clim_no  year  month  rainfalll\n",
      "0           0  0001517_8  2000      1       15.8\n",
      "1           1  0001517_8  2000      2        2.4\n",
      "2           2  0001517_8  2000      3       54.3\n",
      "3           3  0001517_8  2000      4       17.9\n",
      "4           4  0001517_8  2000      5       49.4\n"
     ]
    }
   ],
   "source": [
    "# ReadingPerMonth = variableDf[[\"year\",\"month\",\"clim_no\",variableOfNote]]\n",
    "\n",
    "# if variableOfNote == 'rainfall':\n",
    "#     ReadingPerMonth = ReadingPerMonth.groupby(['clim_no','year','month']).sum().reset_index()\n",
    "# else:\n",
    "#     ReadingPerMonth = ReadingPerMonth.groupby(['clim_no','year','month']).mean().reset_index()\n",
    "\n",
    "# print(\"Reading per month:\")\n",
    "# ReadingPerMonth.head()\n",
    "\n",
    "ReadingPerMonthexample = read_from_drive('https://drive.google.com/file/d/1XN7cjORpuE3j1gqDHsAnb50yluL60reN/view?usp=sharing')\n",
    "print(\"Aggregate reading per month:\")\n",
    "print(ReadingPerMonthexample)"
   ]
  },
  {
   "cell_type": "markdown",
   "metadata": {},
   "source": [
    "#### 1.4) Get reading per month per station Id"
   ]
  },
  {
   "cell_type": "code",
   "execution_count": 6,
   "metadata": {},
   "outputs": [
    {
     "name": "stdout",
     "output_type": "stream",
     "text": [
      "Reading per month matched to station Id:\n",
      "     Id  year  month  rainfall\n",
      "0  6140  2000      1      15.8\n",
      "1  6140  2000      2       2.4\n",
      "2  6140  2000      3      54.3\n",
      "3  6140  2000      4      17.9\n",
      "4  6140  2000      5      49.4\n"
     ]
    }
   ],
   "source": [
    "# weatherStationIds = pd.read_csv(\"C:/Users/gf2704928/Documents/_MIT (Desktop)/__DataFor808/Modeling/WeatherStationsClean_R03_inMeters.csv\", usecols =['Id','clim_no_2']).set_index('clim_no_2')\n",
    "\n",
    "# readingPerMonthMatched = ReadingPerMonth.set_index('clim_no').join(weatherStationIds)\n",
    "# readingPerMonthMatched = readingPerMonthMatched.dropna(subset = ['Id'])\n",
    "# readingPerMonthMatched[\"Id\"] = pd.to_numeric(readingPerMonthMatched[\"Id\"],downcast='integer')\n",
    "\n",
    "# readingPerMonthMatched = readingPerMonthMatched.set_index('Id')\n",
    "# print(\"Reading per month matched to station Id:\")\n",
    "# print(readingPerMonthMatched.head())\n",
    "# readingPerMonthMatched.to_csv(exportFolder + 'readingPerMonthMatched.csv')\n",
    "\n",
    "readingPerMonthMatchedexample = read_from_drive('https://drive.google.com/file/d/1Qxc8t0mQWxlxqDpuTduZbPXZ-_w63TGn/view?usp=sharing')\n",
    "print(\"Reading per month matched to station Id:\")\n",
    "print(readingPerMonthMatchedexample)"
   ]
  },
  {
   "cell_type": "markdown",
   "metadata": {},
   "source": [
    "## Step 2) Match active stations to pests"
   ]
  },
  {
   "cell_type": "markdown",
   "metadata": {},
   "source": [
    "Note that this is done on a month-to-month basis for every year the data is available, using only stations with complete data for that month. Pest inspection are assigned to the closest active weather station for the year-month period."
   ]
  },
  {
   "cell_type": "markdown",
   "metadata": {},
   "source": [
    "### 2.1) Distance function"
   ]
  },
  {
   "cell_type": "code",
   "execution_count": 7,
   "metadata": {},
   "outputs": [],
   "source": [
    "# def getStations(pestData, colName): \n",
    "#     readingPerMonthCount = pd.read_csv(exportFolder + 'readingPerMonthCount.csv')\n",
    "#     weatherStationsAll = pd.read_csv(\"C:/Users/gf2704928/Documents/_MIT (Desktop)/__DataFor808/Modeling/WeatherStationsClean_R03_inMeters.csv\", usecols =[\"Id\",\"clim_no_2\",\"x_m\",\"y_m\"]).set_index('clim_no_2')\n",
    "\n",
    "#     pestLoc = np.array(pestData[[\"x_m\",\"y_m\"]])\n",
    "#     pestStations = pestData.copy(deep=True)\n",
    "#     pestStations = pestStations.set_index('Id')\n",
    "\n",
    "#     for tyear in range(1950,2020):\n",
    "#         for tmonth in range(1,13):\n",
    "#             try:\n",
    "#                 activeStations = readingPerMonthCount[(readingPerMonthCount[\"year\"] == tyear) & (readingPerMonthCount[\"month\"] == tmonth)]                \n",
    "#                 activeStations = activeStations.set_index('clim_no').join(weatherStationsAll)  \n",
    "#                 activeStations = activeStations.dropna(subset = [\"Id\"])   \n",
    "#                 activeStationLoc = np.array(activeStations[[\"x_m\",\"y_m\"]])\n",
    "\n",
    "#                 distance = distance_matrix(pestLoc,activeStationLoc, p=2)        \n",
    "#                 minValues = []\n",
    "\n",
    "#                 for i in range(0,len(distance)):   \n",
    "#                     closestStationIndex = np.where(distance[i] == np.amin(distance[i]))[0][0]\n",
    "#                     minValues.append((pestData.iloc[i,0],int(activeStations.iloc[closestStationIndex,4])))\n",
    "\n",
    "#                 minValues = pd.DataFrame(minValues, columns = [colName,\"StationsId\"])\n",
    "#                 minValues = minValues.rename(columns = {\"StationsId\":str(tyear)+'_'+str(tmonth)})\n",
    "\n",
    "#                 pestStations = pestStations.join(minValues.set_index(colName))\n",
    "#             except:\n",
    "#                 pass            \n",
    "#     return  pestStations"
   ]
  },
  {
   "cell_type": "markdown",
   "metadata": {},
   "source": [
    "### 2.2) Applied to pests"
   ]
  },
  {
   "cell_type": "markdown",
   "metadata": {},
   "source": [
    "#### 2.2.1) Leptocybe stations"
   ]
  },
  {
   "cell_type": "markdown",
   "metadata": {},
   "source": [
    "Calculate (note this will take about 1 minute to run complete code):"
   ]
  },
  {
   "cell_type": "code",
   "execution_count": 8,
   "metadata": {},
   "outputs": [
    {
     "name": "stdout",
     "output_type": "stream",
     "text": [
      "Lepto Stations:\n",
      "            x_m      y_m  1950_1  1950_2  1950_3  1950_4  1950_5  1950_6  \\\n",
      "Id                                                                         \n",
      "1   3161653.426 -3709227    1067    1067    1067    1067    1067    1067   \n",
      "2   3351486.694 -2741825    5178    5178    5178    5178    5178    5178   \n",
      "3   3346585.920 -2721167    5165    5165    5165    5165    5165    5165   \n",
      "4   3353945.612 -2721145    5173    5173    5173    5173    5173    5173   \n",
      "5   3361798.798 -2724855    5190    5190    5190    5190    5190    5190   \n",
      "\n",
      "    1950_7  1950_8  ...  2018_10  2018_11  2018_12  2019_1  2019_2  2019_3  \\\n",
      "Id                  ...                                                      \n",
      "1     1067    1067  ...     5635     5635     5635    5635    5635    5635   \n",
      "2     5178    5178  ...     5858     5858     6383    6383    5858    5858   \n",
      "3     5165    5165  ...     5802     5802     5802    5802    5802    5802   \n",
      "4     5173    5173  ...     5802     5802     5802    5802    5802    5802   \n",
      "5     5190    5190  ...     5735     5735     5735    5735    5735    5735   \n",
      "\n",
      "    2019_4  2019_5  2019_6  2019_7  \n",
      "Id                                  \n",
      "1     5635    5635    5975    5975  \n",
      "2     5858    5858    5858    5858  \n",
      "3     5802    5802    5802    5802  \n",
      "4     5802    5802    5802    5802  \n",
      "5     5735    5735    5735    5735  \n",
      "\n",
      "[5 rows x 832 columns]\n"
     ]
    }
   ],
   "source": [
    "# # Load files\n",
    "# leptoAll = pd.read_csv('C:/Users/gf2704928/Documents/_MIT (Desktop)/__DataFor808/Modeling/Leptocybe_R01.csv', usecols = [\"Id\",\"x_m\",\"y_m\"])\n",
    "\n",
    "# # Run function\n",
    "# leptoStations = getStations(leptoAll, 'LeptoId') \n",
    "\n",
    "# # Export\n",
    "# leptoStations.to_csv(exportFolder + 'leptoStations.csv')\n",
    "# leptoStations.head()  \n",
    "\n",
    "leptoStationsexample = read_from_drive('https://drive.google.com/file/d/1TOT3vil871lRDRCxHTNBAQk7UU0oeR0O/view?usp=sharing').set_index('Id')\n",
    "print(\"Lepto Stations:\")\n",
    "print(leptoStationsexample)"
   ]
  },
  {
   "cell_type": "markdown",
   "metadata": {},
   "source": [
    "#### 2.2.2) Sirex stations"
   ]
  },
  {
   "cell_type": "markdown",
   "metadata": {},
   "source": [
    "Calculate (note this will take about 6 minutes to run complete code):"
   ]
  },
  {
   "cell_type": "code",
   "execution_count": 9,
   "metadata": {},
   "outputs": [
    {
     "name": "stdout",
     "output_type": "stream",
     "text": [
      "Sirex Stations:\n",
      "             x_m          y_m  1950_1  1950_2  1950_3  1950_4  1950_5  1950_6  \\\n",
      "Id                                                                              \n",
      "392  3370640.635 -2618490.615    5360    5360    5360    5360    5360    5360   \n",
      "391  3371099.272 -2621810.237    5360    5360    5360    5360    5360    5360   \n",
      "390  3375183.584 -2622777.126    5360    5360    5360    5360    5360    5360   \n",
      "389  3324792.590 -2631759.843    5334    5334    5334    5334    5334    5334   \n",
      "388  3357687.499 -2632545.914    5284    5284    5284    5284    5284    5284   \n",
      "\n",
      "     1950_7  1950_8  ...  2018_10  2018_11  2018_12  2019_1  2019_2  2019_3  \\\n",
      "Id                   ...                                                      \n",
      "392    5360    5360  ...     6394     6394     6394    6394    6394    6394   \n",
      "391    5360    5360  ...     6394     6394     6394    6394    6394    6394   \n",
      "390    5360    5360  ...     6394     6394     6394    6394    6394    6394   \n",
      "389    5334    5334  ...     5733     5733     5733    5733    5733    5733   \n",
      "388    5284    5284  ...     5931     5764     5764    5764    5764    5764   \n",
      "\n",
      "     2019_4  2019_5  2019_6  2019_7  \n",
      "Id                                   \n",
      "392    6394    6394    6394    6394  \n",
      "391    6394    6394    6394    6394  \n",
      "390    6394    6394    6394    6394  \n",
      "389    5733    5733    5733    5733  \n",
      "388    5764    5764    5764    5764  \n",
      "\n",
      "[5 rows x 832 columns]\n"
     ]
    }
   ],
   "source": [
    "# # Load files\n",
    "# sirexAll = pd.read_csv('C:/Users/gf2704928/Documents/_MIT (Desktop)/__DataFor808/Modeling/Sirex_R01.csv', usecols = [\"Id\",\"x_m\",\"y_m\"])\n",
    "\n",
    "# # Run function\n",
    "# sirexStations = getStations(sirexAll, 'SirexId') \n",
    "\n",
    "# # Export\n",
    "# sirexStations.to_csv(exportFolder + 'sirexStations.csv')\n",
    "# sirexStations.head() \n",
    "\n",
    "sirexStationsexample = read_from_drive('https://drive.google.com/file/d/1LdWRkvB0I3ekI3uJO-ORagGPGFj-bML8/view?usp=sharing').set_index('Id')\n",
    "print(\"Sirex Stations:\")\n",
    "print(sirexStationsexample)"
   ]
  },
  {
   "cell_type": "markdown",
   "metadata": {},
   "source": [
    "## Step 3) Calculate average readings per month"
   ]
  },
  {
   "cell_type": "markdown",
   "metadata": {},
   "source": [
    "### 3.1) Monthly average function"
   ]
  },
  {
   "cell_type": "code",
   "execution_count": 10,
   "metadata": {},
   "outputs": [],
   "source": [
    "# def getAvgPerMonth(pestData, pestStations):\n",
    "#     readingPerMonthMatched = pd.read_csv(exportFolder + 'readingPerMonthMatched.csv')\n",
    "    \n",
    "#     pestReadingPerMonth = pestData.copy(deep=True)\n",
    "#     pestreadingPerMonthCount = pestData.copy(deep=True)\n",
    "#     for month in range(1,13):\n",
    "#         pestReadingPerMonth[[str(month)]] = 0\n",
    "#         pestreadingPerMonthCount[[str(month)]] = 0\n",
    "\n",
    "#     pestReadingPerMonth = pestReadingPerMonth.set_index(\"Id\")\n",
    "#     pestreadingPerMonthCount = pestreadingPerMonthCount.set_index(\"Id\")\n",
    "   \n",
    "#     for tyear in range(1950,2020):\n",
    "#         for tmonth in range(1,13):\n",
    "#             try:    \n",
    "#                 tPest = pestStations[['Id',str(tyear)+'_'+str(tmonth)]].reset_index()#Get active stations per inspection\n",
    "#                 tPest = tPest.drop(columns=['index'])\n",
    "#                 tPest = tPest.rename(columns = {str(tyear)+'_'+str(tmonth):'stationId'})                \n",
    "\n",
    "#                 tReading = readingPerMonthMatched[(readingPerMonthMatched[\"year\"] == tyear) & (readingPerMonthMatched[\"month\"] == tmonth)] \n",
    "#                 tReading = tReading.rename(columns = {'Id':'stationId'})\n",
    "\n",
    "#                 tPesttReading = pd.merge(tPest,tReading, on = ['stationId'])\n",
    "#                 tPesttReading = tPesttReading.set_index('Id')                         \n",
    "\n",
    "#                 pestReadingPerMonth = pestReadingPerMonth.join(tPesttReading) #join to end of df\n",
    "#                 pestreadingPerMonthCount = pestreadingPerMonthCount.join(tPesttReading)\n",
    "\n",
    "#                 pestReadingPerMonth[variableOfNote] = pestReadingPerMonth[variableOfNote].fillna(0)\n",
    "#                 pestreadingPerMonthCount[variableOfNote] = pestreadingPerMonthCount[variableOfNote].fillna(0)\n",
    "\n",
    "#                 pestReadingPerMonth[str(tmonth)] = pestReadingPerMonth[str(tmonth)] + pestReadingPerMonth[variableOfNote]   \n",
    "#                 pestreadingPerMonthCount[str(tmonth)] = pestreadingPerMonthCount[str(tmonth)] + (pestreadingPerMonthCount[variableOfNote] /pestreadingPerMonthCount[variableOfNote] ).fillna(0)\n",
    "\n",
    "#                 pestReadingPerMonth = pestReadingPerMonth.drop(columns=[variableOfNote,'stationId','month','year'])  \n",
    "#                 pestreadingPerMonthCount = pestreadingPerMonthCount.drop(columns=[variableOfNote,'stationId','month','year'])\n",
    "#             except:\n",
    "#                 pass    \n",
    "#     for tmonth in range(1,13):\n",
    "#         pestReadingPerMonth[str(tmonth)] = pestReadingPerMonth[str(tmonth)] / pestreadingPerMonthCount[str(tmonth)]\n",
    "\n",
    "#     return pestReadingPerMonth"
   ]
  },
  {
   "cell_type": "markdown",
   "metadata": {},
   "source": [
    "### 3.2) Applied to pests"
   ]
  },
  {
   "cell_type": "markdown",
   "metadata": {},
   "source": [
    "#### 3.2.1) Leptocybe"
   ]
  },
  {
   "cell_type": "code",
   "execution_count": 11,
   "metadata": {},
   "outputs": [
    {
     "name": "stdout",
     "output_type": "stream",
     "text": [
      "Avg reading per month expected per Leptocybe inspection:\n",
      "            x_m      y_m           1           2           3          4  \\\n",
      "Id                                                                        \n",
      "1   3161653.426 -3709227  184.791304  158.107353  155.240298  70.325000   \n",
      "2   3351486.694 -2741825  281.915942  253.226087  176.705797  94.202899   \n",
      "3   3346585.920 -2721167  253.366667  253.627536  160.823188  80.089552   \n",
      "4   3353945.612 -2721145  232.666667  212.785507  140.502899  71.626866   \n",
      "5   3361798.798 -2724855  203.566667  204.975000  120.495652  63.114493   \n",
      "\n",
      "            5          6          7          8          9          10  \\\n",
      "Id                                                                      \n",
      "1   32.157812  21.518966  23.684746  36.603030  69.536232  115.970588   \n",
      "2   31.244615  18.326984  20.763077  19.884375  40.705970   85.459420   \n",
      "3   28.629508  17.891071  19.112281  16.019048  36.672727   76.092754   \n",
      "4   27.481356  18.083636  15.652542  12.523810  29.636364   62.097101   \n",
      "5   27.820755  18.511765  16.741304  11.284314  43.433333   66.753731   \n",
      "\n",
      "            11          12  \n",
      "Id                          \n",
      "1   149.789706  157.732353  \n",
      "2   168.343478  226.791304  \n",
      "3   140.668116  187.230435  \n",
      "4   126.247826  171.439130  \n",
      "5   133.505797  182.555072  \n"
     ]
    }
   ],
   "source": [
    "# #Load files\n",
    "# leptoAll = pd.read_csv ('C:/Users/gf2704928/Documents/_MIT (Desktop)/__DataFor808/Modeling/Leptocybe_R01.csv', usecols = [\"Id\",\"x_m\",\"y_m\"])\n",
    "# leptoStations = pd.read_csv(exportFolder + 'leptoStations.csv')\n",
    "\n",
    "# #Run function\n",
    "# leptoReadingPerMonth = getAvgPerMonth(leptoAll, leptoStations)\n",
    "\n",
    "# #Export\n",
    "# leptoReadingPerMonth.to_csv(exportFolder + 'leptoReadingPerMonthAvg.csv')\n",
    "# print(\"Avg reading per month expected per Leptocybe inspection:\")\n",
    "# print(leptoReadingPerMonth)\n",
    "\n",
    "leptoReadingPerMonthexample = read_from_drive('https://drive.google.com/file/d/1jUF2R0APMJu714TOLK6VHnLH3_vtF4fn/view?usp=sharing').set_index('Id')\n",
    "print(\"Avg reading per month expected per Leptocybe inspection:\")\n",
    "print(leptoReadingPerMonthexample)"
   ]
  },
  {
   "cell_type": "markdown",
   "metadata": {},
   "source": [
    "#### 3.2.2) Sirex"
   ]
  },
  {
   "cell_type": "code",
   "execution_count": 12,
   "metadata": {},
   "outputs": [
    {
     "name": "stdout",
     "output_type": "stream",
     "text": [
      "Avg reading per month expected per Sirex inspection:\n",
      "             x_m          y_m           1           2           3          4  \\\n",
      "Id                                                                             \n",
      "392  3370640.635 -2618490.615  253.917647  237.117647  137.936232  71.481538   \n",
      "391  3371099.272 -2621810.237  253.917647  252.433823  143.478261  73.232308   \n",
      "390  3375183.584 -2622777.126  257.823188  265.194203  158.786957  75.230882   \n",
      "389  3324792.590 -2631759.843  128.982609  121.708696   78.391304  36.492424   \n",
      "388  3357687.499 -2632545.914  242.079412  254.040580  149.474627  68.797015   \n",
      "\n",
      "             5          6          7          8          9         10  \\\n",
      "Id                                                                      \n",
      "392  35.762712  26.805769  23.889091  23.608197  38.664615  66.035294   \n",
      "391  36.244068  28.119231  24.054545  23.608197  38.664615  66.035294   \n",
      "390  35.173437  25.859016  23.824138  22.901563  38.398485  71.127536   \n",
      "389  20.451923  18.706522  13.675000   8.034694  17.780357  38.087879   \n",
      "388  40.168627  31.370909  33.318868  26.249057  39.422034  71.555224   \n",
      "\n",
      "             11          12  \n",
      "Id                           \n",
      "392  121.508955  195.392424  \n",
      "391  121.508955  195.392424  \n",
      "390  133.427536  197.157971  \n",
      "389   84.382609  106.578261  \n",
      "388  111.754412  184.372059  \n"
     ]
    }
   ],
   "source": [
    "# #Load files\n",
    "# sirexAll = pd.read_csv('C:/Users/gf2704928/Documents/_MIT (Desktop)/__DataFor808/Modeling/Sirex_R01.csv', usecols = [\"Id\",\"x_m\",\"y_m\"])\n",
    "# sirexStations = pd.read_csv(exportFolder + 'sirexStations.csv')\n",
    "\n",
    "# #Run function\n",
    "# sirexReadingPerMonth = getAvgPerMonth(sirexAll, sirexStations)\n",
    "\n",
    "# #Export\n",
    "# sirexReadingPerMonth.to_csv(exportFolder + 'sirexReadingPerMonthAvg.csv')\n",
    "# print(\"Avg reading per month expected per Sirex inspection:\")\n",
    "# print(sirexReadingPerMonth)\n",
    "\n",
    "sirexReadingPerMonthexample = read_from_drive('https://drive.google.com/file/d/13MkStuk4E3sMqeBUnhbvK_b0998nJZBF/view?usp=sharing').set_index('Id')\n",
    "print(\"Avg reading per month expected per Sirex inspection:\")\n",
    "print(sirexReadingPerMonthexample)"
   ]
  },
  {
   "cell_type": "markdown",
   "metadata": {},
   "source": [
    "## Step 4) Determine actual readings per month"
   ]
  },
  {
   "cell_type": "markdown",
   "metadata": {},
   "source": [
    "### 4.1) Actual readings function"
   ]
  },
  {
   "cell_type": "code",
   "execution_count": 13,
   "metadata": {},
   "outputs": [],
   "source": [
    "# def getActualReadings(pestData, pestStations, startYear):\n",
    "#     readingPerMonthMatched = pd.read_csv(exportFolder + 'readingPerMonthMatched.csv')\n",
    "#     pestIns = pestData[pestData['Year']<2019] #Limit due to available weather data\n",
    "\n",
    "#     pestInsActuals = pestIns.copy(deep=True)\n",
    "#     for month in range(1,49):\n",
    "#         pestInsActuals[[str(month)]] = 0\n",
    "#     pestInsActuals = pestInsActuals.set_index('Id')\n",
    "#     pestInsActuals['Year'] = pestInsActuals['Year'].astype('int')\n",
    "\n",
    "#     for tyear in range(startYear,2019):    \n",
    "#         yearMax = tyear\n",
    "#         yearMin = tyear - 3\n",
    "#         colMonth = 0   \n",
    "\n",
    "#         pestInsActualsForYear = pestInsActuals[['Year']]\n",
    "#         pestInsActualsForYear = pestInsActualsForYear[pestInsActualsForYear['Year'] == tyear]        \n",
    "\n",
    "#         for year in range(yearMin,yearMax + 1):               \n",
    "#             for month in range(1,13):\n",
    "#                 colMonth += 1                          \n",
    "#                 try:                          \n",
    "#                     #Get station for the month\n",
    "#                     pestStationsForMonth = pestStations[['Id',str(year)+'_'+str(month)]]\n",
    "#                     pestStationsForMonth = pestStationsForMonth.rename(columns = {str(year)+'_'+str(month):'stationId'})\n",
    "\n",
    "#                     #Get rainfall for station for the month\n",
    "#                     ActualReading = readingPerMonthMatched[(readingPerMonthMatched['year'] == year) & (readingPerMonthMatched['month'] == month)]\n",
    "#                     ActualReading = ActualReading.rename(columns = {'Id':'stationId'}) \n",
    "\n",
    "#                     ActualReading = pd.merge(pestStationsForMonth,ActualReading, on = ['stationId'])\n",
    "#                     ActualReading['Id'] = ActualReading['Id'].astype('int')\n",
    "#                     ActualReading = ActualReading.set_index('Id')\n",
    "\n",
    "#                 except:                     \n",
    "#                     try:                         \n",
    "#                         pestStationsForMonth = pestStations[['Id',str(year-1)+'_'+str(month)]]                        \n",
    "#                         pestStationsForMonth = pestStationsForMonth.rename(columns = {str(year-1)+'_'+str(month):'stationId'}) \n",
    "\n",
    "#                         ActualReading = readingPerMonthMatched[(readingPerMonthMatched['year'] == year-1) & (readingPerMonthMatched['month'] == month)]\n",
    "#                         ActualReading = ActualReading.rename(columns = {'Id':'stationId'}) \n",
    "#                         ActualReading = pd.merge(ActualReading,pestStationsForMonth, on = ['stationId'])                        \n",
    "                                           \n",
    "#                         ActualReading['Id'] = ActualReading['Id'].astype('int')\n",
    "#                         ActualReading = ActualReading.set_index('Id')\n",
    "#                         ActualReading[variableOfNote] = 0                       \n",
    "\n",
    "#                         avgRange = [-2,-1,1,2]                         \n",
    "\n",
    "#                         for i in avgRange:\n",
    "#                             pestStationsForMonthTemp = pestStations[['Id',str(year+i)+'_'+str(month)]]                                                 \n",
    "#                             pestStationsForMonthTemp = pestStationsForMonthTemp.rename(columns = {str(year+i)+'_'+str(month):'stationId'})\n",
    "                            \n",
    "\n",
    "#                             ActualReadingTemp = readingPerMonthMatched[(readingPerMonthMatched['year'] == year+i) & (readingPerMonthMatched['month'] == month)]\n",
    "#                             ActualReadingTemp = ActualReadingTemp.rename(columns = {'Id':'stationId'}) \n",
    "                        \n",
    "#                             ActualReadingTemp = pd.merge(ActualReadingTemp,pestStationsForMonthTemp, on = ['stationId']) \n",
    "                  \n",
    "#                             # ActualReadingTemp['Id'] = ActualReadingTemp['Id'].astype('int')\n",
    "#                             ActualReadingTemp = ActualReadingTemp.set_index('Id')                          \n",
    "#                             ActualReading[variableOfNote] = ActualReading[variableOfNote] + ActualReadingTemp[variableOfNote]\n",
    "                        \n",
    "#                         ActualReading[variableOfNote] = ActualReading[variableOfNote]/len(avgRange)\n",
    "#                         print(\"No data for\", year, month, 'average used.') \n",
    "                         \n",
    "#                     except:\n",
    "#                         print(\"No data for\", year, month) \n",
    "                \n",
    "#                 pestInsActualsForYearWithReading = pestInsActualsForYear.join(ActualReading)   \n",
    "#                 pestInsActualsForYearWithReading = pestInsActualsForYearWithReading.drop(columns=['Year','year','month', 'stationId'])\n",
    "\n",
    "#                 pestInsActuals = pestInsActuals.join(pestInsActualsForYearWithReading)\n",
    "#                 pestInsActuals[variableOfNote] = pestInsActuals[variableOfNote].fillna(0)                    \n",
    "\n",
    "#                 pestInsActuals[str(colMonth)] = pestInsActuals[str(colMonth)] + pestInsActuals[variableOfNote]\n",
    "#                 pestInsActuals = pestInsActuals.drop(columns=[variableOfNote])\n",
    "\n",
    "#     return pestInsActuals"
   ]
  },
  {
   "cell_type": "markdown",
   "metadata": {},
   "source": [
    "### 4.2) Applied to pests"
   ]
  },
  {
   "cell_type": "markdown",
   "metadata": {},
   "source": [
    "#### 4.2.1) Leptocybe"
   ]
  },
  {
   "cell_type": "code",
   "execution_count": 14,
   "metadata": {},
   "outputs": [
    {
     "name": "stdout",
     "output_type": "stream",
     "text": [
      "Lepto actuals per inspection 3 years prior and including year of inspection:\n",
      "    Year Lepto_Y_N      1      2      3      4   5  6    7     8  ...     39  \\\n",
      "Id                                                                ...          \n",
      "1   2017       Yes  151.5  194.0  258.0  132.5  12  0  0.0  29.5  ...  142.0   \n",
      "2   2017       Yes  219.5  181.4  323.2   79.0   0  0  0.0  20.0  ...   66.2   \n",
      "3   2017       Yes  301.5  209.7  235.4   81.5   3  0  2.0  17.0  ...  105.8   \n",
      "4   2017       Yes  249.0  226.2  168.3   86.5   0  0  2.7  14.5  ...  105.8   \n",
      "5   2017       Yes  175.5  111.3  229.0   48.9   0  0  0.0  10.0  ...   81.0   \n",
      "\n",
      "       40    41  42   43    44    45     46    47    48  \n",
      "Id                                                       \n",
      "1    54.0  45.5   0  0.3  29.7   5.6  130.8  41.6  68.2  \n",
      "2   135.0  60.5   0  1.4   0.0   0.0   51.1  65.2  84.4  \n",
      "3   123.5  31.5   0  1.4   0.0   0.0   51.1  65.2  84.4  \n",
      "4   123.5  31.5   0  1.4   0.0   0.0   51.1  65.2  84.4  \n",
      "5    71.0  32.0   0  3.4   7.0  29.4   77.8  65.2  98.0  \n",
      "\n",
      "[5 rows x 50 columns]\n"
     ]
    }
   ],
   "source": [
    "# #Load files\n",
    "# leptoAll = pd.read_csv('C:/Users/gf2704928/Documents/_MIT (Desktop)/__DataFor808/Modeling/Leptocybe_R01.csv',usecols =[\"Id\",\"Year\",\"Lepto_Y_N\"])\n",
    "# leptoStations = pd.read_csv(exportFolder + 'leptoStations.csv')\n",
    "\n",
    "# #Run function\n",
    "# leptoInsActuals = getActualReadings(leptoAll, leptoStations, 2016)\n",
    "\n",
    "# #Export\n",
    "# print('Lepto actuals per inspection 3 years prior and including year of inspection:')\n",
    "# print(leptoInsActuals)\n",
    "# leptoInsActuals.to_csv(exportFolder + 'leptoInsActuals.csv')\n",
    "\n",
    "leptoInsActualsExample = read_from_drive('https://drive.google.com/file/d/1jLR7OMpkdCIN3Z_8eO698rJ2SUrOIYjg/view?usp=sharing').set_index('Id')\n",
    "print('Lepto actuals per inspection 3 years prior and including year of inspection:')\n",
    "print(leptoInsActualsExample)"
   ]
  },
  {
   "cell_type": "markdown",
   "metadata": {},
   "source": [
    "##### 1.4.2.2.2) Sirex"
   ]
  },
  {
   "cell_type": "code",
   "execution_count": 15,
   "metadata": {},
   "outputs": [
    {
     "name": "stdout",
     "output_type": "stream",
     "text": [
      "Sirex actuals per inspection 3 years prior and including year of inspection:\n",
      "     Year Sirex_Presence      1      2      3     4     5      6     7    8  \\\n",
      "Id                                                                            \n",
      "392  2012       No Sirex  189.9  157.0  153.0  37.5   9.5   59.5  20.5  2.5   \n",
      "391  2012       No Sirex  189.9  157.0  153.0  37.5   9.5   59.5  20.5  2.5   \n",
      "390  2012       No Sirex  189.9  157.0  153.0  37.5   9.5   59.5  20.5  2.5   \n",
      "389  2012       No Sirex  295.2  147.5  101.5   6.5   0.0   48.0  10.5  0.0   \n",
      "388  2012       No Sirex  314.0  329.8  272.0  59.4  29.2  121.6  59.4  0.0   \n",
      "\n",
      "     ...    39    40   41    42   43    44    45    46  47     48  \n",
      "Id   ...                                                           \n",
      "392  ...  28.0  24.0  0.0  10.0  0.0   0.0   7.0  57.4  82  124.5  \n",
      "391  ...  28.0  24.0  0.0  10.0  0.0   0.0   7.0  57.4  82  124.5  \n",
      "390  ...  28.0  24.0  0.0  10.0  0.0   0.0   7.0  57.4  82  124.5  \n",
      "389  ...  15.0   2.8  0.0   2.5  0.0   0.0  26.0  59.5  35   61.0  \n",
      "388  ...  42.5  17.6  2.7   1.5  2.8  10.4  58.9  90.0  99  147.2  \n",
      "\n",
      "[5 rows x 50 columns]\n"
     ]
    }
   ],
   "source": [
    "# #Load files\n",
    "# sirexAll = pd.read_csv('C:/Users/gf2704928/Documents/_MIT (Desktop)/__DataFor808/Modeling/Sirex_R01.csv', usecols = ['Id','Year','Sirex_Presence'])\n",
    "# sirexStations = pd.read_csv(exportFolder + 'sirexStations.csv')\n",
    "\n",
    "# #Run function\n",
    "# sirexInsActuals = getActualReadings(sirexAll, sirexStations, 2012)\n",
    "\n",
    "# #Export\n",
    "# print('Sirex actuals per inspection 3 years prior and including year of inspection:')\n",
    "# print(sirexInsActuals)\n",
    "# sirexInsActuals.to_csv(exportFolder + 'sirexInsActuals.csv')\n",
    "\n",
    "sirexInsActualsExample = read_from_drive('https://drive.google.com/file/d/1oIA2mVWGWyLHEZs5pQIhWsmglYH39sUm/view?usp=sharing').set_index('Id')\n",
    "print('Sirex actuals per inspection 3 years prior and including year of inspection:')\n",
    "print(sirexInsActualsExample)"
   ]
  },
  {
   "cell_type": "markdown",
   "metadata": {},
   "source": [
    "## Step 5) Calculate difference between actual and average readings per month"
   ]
  },
  {
   "cell_type": "markdown",
   "metadata": {},
   "source": [
    "### 5.1) Difference function"
   ]
  },
  {
   "cell_type": "code",
   "execution_count": 16,
   "metadata": {},
   "outputs": [],
   "source": [
    "# def getDifference(pestActuals, pestAvgs):\n",
    "#     pestDiff = pestActuals.copy(deep=True)\n",
    "#     for col in range(2,len(pestActuals.columns)):\n",
    "#         totalMonth = col - 1\n",
    "\n",
    "#         if totalMonth/12 > 3:\n",
    "#             month = totalMonth - 36\n",
    "#         elif totalMonth/12 > 2:\n",
    "#             month = totalMonth - 24\n",
    "#         elif totalMonth/12 > 1:\n",
    "#             month = totalMonth - 12\n",
    "#         else:\n",
    "#             month = totalMonth\n",
    "        \n",
    "#         pestDiff[str(totalMonth)] = pestActuals[str(totalMonth)] - pestAvgs[str(month)] #actuals - avg\n",
    "#     return pestDiff"
   ]
  },
  {
   "cell_type": "markdown",
   "metadata": {},
   "source": [
    "### 5.2) Applied to pests"
   ]
  },
  {
   "cell_type": "markdown",
   "metadata": {},
   "source": [
    "#### 5.2.1) Leptocybe"
   ]
  },
  {
   "cell_type": "code",
   "execution_count": 17,
   "metadata": {},
   "outputs": [
    {
     "name": "stdout",
     "output_type": "stream",
     "text": [
      "Lepto actual - average 3 years prior and including year of inspection:\n",
      "    Year Lepto_Y_N          1          2           3          4          5  \\\n",
      "Id                                                                           \n",
      "1   2017       Yes -33.291304  35.892647  102.759702  62.175000 -20.157812   \n",
      "2   2017       Yes -62.415942 -71.826087  146.494203 -15.202899 -31.244615   \n",
      "3   2017       Yes  48.133333 -43.927536   74.576812   1.410448 -25.629508   \n",
      "4   2017       Yes  16.333333  13.414493   27.797101  14.873134 -27.481356   \n",
      "5   2017       Yes -28.066667 -93.675000  108.504348 -14.214493 -27.820755   \n",
      "\n",
      "            6          7         8  ...          39         40         41  \\\n",
      "Id                                  ...                                     \n",
      "1  -21.518966 -23.684746 -7.103030  ...  -13.240299 -16.325000  13.342187   \n",
      "2  -18.326984 -20.763077  0.115625  ... -110.505797  40.797101  29.255385   \n",
      "3  -17.891071 -17.112281  0.980952  ...  -55.023188  43.410448   2.870492   \n",
      "4  -18.083636 -12.952542  1.976190  ...  -34.702899  51.873134   4.018644   \n",
      "5  -18.511765 -16.741304 -1.284314  ...  -39.495652   7.885507   4.179245   \n",
      "\n",
      "           42         43         44         45         46          47  \\\n",
      "Id                                                                      \n",
      "1  -21.518966 -23.384746  -6.903030 -63.936232  14.829412 -108.189706   \n",
      "2  -18.326984 -19.363077 -19.884375 -40.705970 -34.359420 -103.143478   \n",
      "3  -17.891071 -17.712281 -16.019048 -36.672727 -24.992754  -75.468116   \n",
      "4  -18.083636 -14.252542 -12.523810 -29.636364 -10.997101  -61.047826   \n",
      "5  -18.511765 -13.341304  -4.284314 -14.033333  11.046269  -68.305797   \n",
      "\n",
      "            48  \n",
      "Id              \n",
      "1   -89.532353  \n",
      "2  -142.391304  \n",
      "3  -102.830435  \n",
      "4   -87.039130  \n",
      "5   -84.555072  \n",
      "\n",
      "[5 rows x 50 columns]\n"
     ]
    }
   ],
   "source": [
    "# #Load files\n",
    "# leptoInsActuals = pd.read_csv(exportFolder + 'leptoInsActuals.csv').set_index('Id')\n",
    "# leptoReadingPerMonth = pd.read_csv(exportFolder + 'leptoReadingPerMonthAvg.csv').set_index('Id')\n",
    "\n",
    "# #Run function\n",
    "# leptoDiff = getDifference(leptoInsActuals, leptoReadingPerMonth)\n",
    "\n",
    "# #Export\n",
    "# print(leptoDiff.head())\n",
    "# leptoDiff.to_csv(exportFolder + 'leptoDiff.csv')\n",
    "\n",
    "leptoDiffExample = read_from_drive('https://drive.google.com/file/d/1oYuDA7ImugQqeuF5Vizt-95BXNRcyzLU/view?usp=sharing').set_index('Id')\n",
    "print('Lepto actual - average 3 years prior and including year of inspection:')\n",
    "print(leptoDiffExample)"
   ]
  },
  {
   "cell_type": "markdown",
   "metadata": {},
   "source": [
    "#### 5.2.2) Sirex"
   ]
  },
  {
   "cell_type": "code",
   "execution_count": 18,
   "metadata": {},
   "outputs": [
    {
     "name": "stdout",
     "output_type": "stream",
     "text": [
      "Sirex actual - average 3 years prior and including year of inspection:\n",
      "     Year Sirex_Presence           1           2           3          4  \\\n",
      "Id                                                                        \n",
      "392  2012       No Sirex  -64.017647  -80.117647   15.063768 -33.981538   \n",
      "391  2012       No Sirex  -64.017647  -95.433824    9.521739 -35.732308   \n",
      "390  2012       No Sirex  -67.923188 -108.194203   -5.786957 -37.730882   \n",
      "389  2012       No Sirex  166.217391   25.791304   23.108696 -29.992424   \n",
      "388  2012       No Sirex   71.920588   75.759420  122.525373  -9.397015   \n",
      "\n",
      "             5          6          7          8  ...          39         40  \\\n",
      "Id                                               ...                          \n",
      "392 -26.262712  32.694231  -3.389091 -21.108197  ... -109.936232 -47.481538   \n",
      "391 -26.744068  31.380769  -3.554545 -21.108197  ... -115.478261 -49.232308   \n",
      "390 -25.673437  33.640984  -3.324138 -20.401563  ... -130.786957 -51.230882   \n",
      "389 -20.451923  29.293478  -3.175000  -8.034694  ...  -63.391304 -33.692424   \n",
      "388 -10.968627  90.229091  26.081132 -26.249057  ... -106.974627 -51.197015   \n",
      "\n",
      "            41         42         43         44         45         46  \\\n",
      "Id                                                                      \n",
      "392 -35.762712 -16.805769 -23.889091 -23.608197 -31.664615  -8.635294   \n",
      "391 -36.244068 -18.119231 -24.054545 -23.608197 -31.664615  -8.635294   \n",
      "390 -35.173437 -15.859016 -23.824138 -22.901563 -31.398485 -13.727536   \n",
      "389 -20.451923 -16.206522 -13.675000  -8.034694   8.219643  21.412121   \n",
      "388 -37.468627 -29.870909 -30.518868 -15.849057  19.477966  18.444776   \n",
      "\n",
      "            47         48  \n",
      "Id                         \n",
      "392 -39.508955 -70.892424  \n",
      "391 -39.508955 -70.892424  \n",
      "390 -51.427536 -72.657971  \n",
      "389 -49.382609 -45.578261  \n",
      "388 -12.754412 -37.172059  \n",
      "\n",
      "[5 rows x 50 columns]\n"
     ]
    }
   ],
   "source": [
    "# #Load files\n",
    "# sirexInsActuals = pd.read_csv(exportFolder + 'sirexInsActuals.csv').set_index('Id')\n",
    "# sirexReadingPerMonth = pd.read_csv(exportFolder + 'sirexReadingPerMonthAvg.csv').set_index('Id')\n",
    "\n",
    "# #Run function\n",
    "# sirexDiff = getDifference(sirexInsActuals, sirexReadingPerMonth)\n",
    "\n",
    "# #Export\n",
    "# print(sirexDiff.head())\n",
    "# sirexDiff.to_csv(exportFolder + 'sirexDiff.csv')\n",
    "\n",
    "sirexDiffExample = read_from_drive('https://drive.google.com/file/d/1qeDGrjLSWOAOOWIt6CxlRGkGspYPy3-y/view?usp=sharing').set_index('Id')\n",
    "print('Sirex actual - average 3 years prior and including year of inspection:')\n",
    "print(sirexDiffExample)"
   ]
  },
  {
   "cell_type": "markdown",
   "metadata": {},
   "source": [
    "## Step 6) Format data for modelling"
   ]
  },
  {
   "cell_type": "markdown",
   "metadata": {},
   "source": [
    "### 6.1) Get format for variable of interest"
   ]
  },
  {
   "cell_type": "markdown",
   "metadata": {},
   "source": [
    "#### 6.1.1) Leptocybe"
   ]
  },
  {
   "cell_type": "code",
   "execution_count": 19,
   "metadata": {},
   "outputs": [
    {
     "name": "stdout",
     "output_type": "stream",
     "text": [
      "Readings per month per Lepto inspection (expanded):\n",
      "    Timeframe  Year Lepto_Y_N  rainfalldiff  rainfall  rainfallavg\n",
      "Id                                                                \n",
      "1           1  2017       Yes    -33.291304     151.5   184.791304\n",
      "2           1  2017       Yes    -62.415942     219.5   281.915942\n",
      "3           1  2017       Yes     48.133333     301.5   253.366667\n",
      "4           1  2017       Yes     16.333333     249.0   232.666667\n",
      "5           1  2017       Yes    -28.066667     175.5   203.566667\n",
      "6           1  2017       Yes    -24.876812     106.0   130.876812\n"
     ]
    }
   ],
   "source": [
    "# #Load the differences\n",
    "# leptoDiff = pd.read_csv(exportFolder + 'leptoDiff.csv')\n",
    "# leptoDiffTrans = leptoDiff.melt(id_vars=[\"Id\", \"Year\", \"Lepto_Y_N\"], var_name=\"Timeframe\", value_name=variableOfNote + 'diff')\n",
    "# leptoDiffTrans = leptoDiffTrans.dropna(subset=[variableOfNote + 'diff'])\n",
    "# #Load the actuals\n",
    "# leptoInsActuals = pd.read_csv(exportFolder + 'leptoInsActuals.csv')\n",
    "# leptoInsActuals = leptoInsActuals.drop(columns = ['Year','Lepto_Y_N'])\n",
    "# leptoInsActualsTrans = leptoInsActuals.melt(id_vars=[\"Id\"], var_name=\"Timeframe\", value_name=variableOfNote)\n",
    "# leptoInsActualsTrans = leptoInsActualsTrans.dropna(subset=[variableOfNote])\n",
    "# #Join differences and actuals\n",
    "# leptoDiffActTrans = leptoDiffTrans.set_index(['Id','Timeframe']).join(leptoInsActualsTrans.set_index(['Id','Timeframe'])).reset_index()\n",
    "\n",
    "# #Load averages\n",
    "# leptoReadingPerMonthAvg = pd.read_csv(exportFolder + 'leptoReadingPerMonthAvg.csv')\n",
    "# leptoReadingPerMonthAvg = leptoReadingPerMonthAvg.drop(columns = ['x_m','y_m'])\n",
    "# leptoReadingPerMonthAvgTrans = leptoReadingPerMonthAvg.melt(id_vars=[\"Id\"], var_name=\"Timeframe\", value_name=variableOfNote + 'avg')\n",
    "# leptoReadingPerMonthAvgTrans = leptoReadingPerMonthAvgTrans.dropna(subset=[variableOfNote + 'avg'])\n",
    "# leptoReadingPerMonthAvgTrans['Timeframe'] = pd.to_numeric(leptoReadingPerMonthAvgTrans['Timeframe'])\n",
    "\n",
    "# for i in range(1,4):\n",
    "#     leptoReadingPerMonthAvgTransP1 = leptoReadingPerMonthAvgTrans.copy()\n",
    "#     leptoReadingPerMonthAvgTransP1['Timeframe'] = leptoReadingPerMonthAvgTransP1['Timeframe'] + 12*i\n",
    "#     leptoReadingPerMonthAvgTrans = leptoReadingPerMonthAvgTrans.append(leptoReadingPerMonthAvgTransP1)\n",
    "# leptoReadingPerMonthAvgTrans['Timeframe'] = leptoReadingPerMonthAvgTrans['Timeframe'].astype(str)\n",
    "\n",
    "# #Merge difference, actuals and averages\n",
    "# # leptoDiffActTrans = leptoDiffActTrans.set_index(['Id','Timeframe']).join(leptoReadingPerMonthAvgTrans.set_index(['Id','Timeframe']))\n",
    "# leptoDiffActTrans = pd.merge(leptoDiffActTrans,leptoReadingPerMonthAvgTrans, on =['Id','Timeframe'])\n",
    "# leptoDiffActTrans = leptoDiffActTrans.drop_duplicates(subset = ['Id','Timeframe'])\n",
    "# leptoDiffActTrans = leptoDiffActTrans.set_index(['Id','Timeframe'])\n",
    "\n",
    "# #Export\n",
    "# leptoDiffActTrans.to_csv(exportFolder + 'leptoDiffActTrans.csv')\n",
    "# print('Readings per month per Lepto inspection (expanded):')\n",
    "# print(leptoDiffActTrans.head())\n",
    "\n",
    "leptoDiffActTransExample = read_from_drive('https://drive.google.com/file/d/1z5TC3Qx_OkRrfVf861gNqZbYgf0KtzZ7/view?usp=sharing').set_index('Id')\n",
    "print('Readings per month per Lepto inspection (expanded):')\n",
    "print(leptoDiffActTransExample)"
   ]
  },
  {
   "cell_type": "markdown",
   "metadata": {},
   "source": [
    "#### 6.1.2) Sirex"
   ]
  },
  {
   "cell_type": "code",
   "execution_count": 20,
   "metadata": {},
   "outputs": [
    {
     "name": "stdout",
     "output_type": "stream",
     "text": [
      "Readings per month per Sirex inspection (expanded):\n",
      "     Timeframe  Year Sirex_Presence  rainfalldiff  rainfall  rainfallavg\n",
      "Id                                                                      \n",
      "392          1  2012       No Sirex    -64.017647     189.9   253.917647\n",
      "391          1  2012       No Sirex    -64.017647     189.9   253.917647\n",
      "390          1  2012       No Sirex    -67.923188     189.9   257.823188\n",
      "389          1  2012       No Sirex    166.217391     295.2   128.982609\n",
      "388          1  2012       No Sirex     71.920588     314.0   242.079412\n",
      "387          1  2012       No Sirex    100.532308     366.5   265.967692\n",
      "386          1  2012       No Sirex     51.104348     314.0   262.895652\n",
      "384          1  2012       No Sirex    -42.729851     209.0   251.729851\n",
      "385          1  2012       No Sirex    -23.948485     213.8   237.748485\n"
     ]
    }
   ],
   "source": [
    "# #Load the differences\n",
    "# sirexDiff = pd.read_csv(exportFolder + 'sirexDiff.csv')\n",
    "# sirexDiffTrans = sirexDiff.melt(id_vars=[\"Id\", \"Year\", \"Sirex_Presence\"], var_name=\"Timeframe\", value_name=variableOfNote + 'diff')\n",
    "# sirexDiffTrans = sirexDiffTrans.dropna(subset=[variableOfNote + 'diff'])\n",
    "# #Load the actuals\n",
    "# sirexInsActuals = pd.read_csv(exportFolder + 'sirexInsActuals.csv')\n",
    "# sirexInsActuals = sirexInsActuals.drop(columns = ['Year','Sirex_Presence'])\n",
    "# sirexInsActualsTrans = sirexInsActuals.melt(id_vars=[\"Id\"], var_name=\"Timeframe\", value_name=variableOfNote)\n",
    "# sirexInsActualsTrans = sirexInsActualsTrans.dropna(subset=[variableOfNote])\n",
    "# #Join differences and actuals\n",
    "# sirexDiffActTrans = sirexDiffTrans.set_index(['Id','Timeframe']).join(sirexInsActualsTrans.set_index(['Id','Timeframe'])).reset_index()\n",
    "\n",
    "# #Load averages\n",
    "# sirexReadingPerMonthAvg = pd.read_csv(exportFolder + 'sirexReadingPerMonthAvg.csv')\n",
    "# sirexReadingPerMonthAvg = sirexReadingPerMonthAvg.drop(columns = ['x_m','y_m'])\n",
    "# sirexReadingPerMonthAvgTrans = sirexReadingPerMonthAvg.melt(id_vars=[\"Id\"], var_name=\"Timeframe\", value_name=variableOfNote + 'avg')\n",
    "# sirexReadingPerMonthAvgTrans = sirexReadingPerMonthAvgTrans.dropna(subset=[variableOfNote + 'avg'])\n",
    "# sirexReadingPerMonthAvgTrans['Timeframe'] = pd.to_numeric(sirexReadingPerMonthAvgTrans['Timeframe'])\n",
    "\n",
    "# for i in range(1,4):\n",
    "#     sirexReadingPerMonthAvgTransP1 = sirexReadingPerMonthAvgTrans.copy()\n",
    "#     sirexReadingPerMonthAvgTransP1['Timeframe'] = sirexReadingPerMonthAvgTransP1['Timeframe'] + 12*i\n",
    "#     sirexReadingPerMonthAvgTrans = sirexReadingPerMonthAvgTrans.append(sirexReadingPerMonthAvgTransP1)\n",
    "# sirexReadingPerMonthAvgTrans['Timeframe'] = sirexReadingPerMonthAvgTrans['Timeframe'].astype(str)\n",
    "\n",
    "# #Merge difference, actuals and averages\n",
    "# sirexDiffActTrans = pd.merge(sirexDiffActTrans,sirexReadingPerMonthAvgTrans, on =['Id','Timeframe'])\n",
    "# sirexDiffActTrans = sirexDiffActTrans.drop_duplicates(subset = ['Id','Timeframe'])\n",
    "# sirexDiffActTrans = sirexDiffActTrans.set_index(['Id','Timeframe'])\n",
    "\n",
    "# #Export\n",
    "# sirexDiffActTrans.to_csv(exportFolder + 'sirexDiffActTrans.csv')\n",
    "# print('Readings per month per Sirex inspection (expanded):')\n",
    "# print(sirexDiffActTrans.head())\n",
    "\n",
    "\n",
    "sirexDiffActTransExample = read_from_drive('https://drive.google.com/file/d/1dprWesS_8NfmFQDF_ehLVpQ3sG86Lw2e/view?usp=sharing').set_index('Id')\n",
    "print('Readings per month per Sirex inspection (expanded):')\n",
    "print(sirexDiffActTransExample)"
   ]
  },
  {
   "cell_type": "markdown",
   "metadata": {},
   "source": [
    "### 6.2) Merge files"
   ]
  },
  {
   "cell_type": "markdown",
   "metadata": {},
   "source": [
    "Run Step1 1 to 6.1 first, for rainfall, max and min temp, and temp diff"
   ]
  },
  {
   "cell_type": "markdown",
   "metadata": {},
   "source": [
    "#### 6.2.1) Function to merge"
   ]
  },
  {
   "cell_type": "code",
   "execution_count": 21,
   "metadata": {},
   "outputs": [],
   "source": [
    "# def mergeData(pestDataOg, filename):\n",
    "#     baseFolder = 'C:/Users/gf2704928/Documents/_MIT (Desktop)/__DataFor808/Modeling/'\n",
    "#     getVariable = ['rainfall','temperature_max','temperature_min','temperature_diff']   \n",
    "#     pestDataOg = pestDataOg[pestDataOg['Year']<2019] #Limit due to available weather data \n",
    "\n",
    "#     pestData = pestDataOg.copy(deep=True)\n",
    "#     pestData['Timeframe'] = 1\n",
    "\n",
    "#     for i in range(2,49):\n",
    "#         pestDataNew = pestDataOg.copy(deep=True)\n",
    "#         pestDataNew['Timeframe'] = i\n",
    "#         pestData = pestData.append(pestDataNew)\n",
    "#     pestData = pestData.set_index(['Id','Timeframe'])\n",
    "\n",
    "#     for v in getVariable:\n",
    "#         pestDiffTrans = pd.read_csv(baseFolder + v + '/' + filename, usecols = ['Id','Timeframe', v +'diff', v, v +'avg'])  \n",
    "#         pestData = pestData.join(pestDiffTrans.set_index(['Id','Timeframe']))\n",
    "\n",
    "#     pestData = pestData.reset_index()\n",
    "#     return pestData"
   ]
  },
  {
   "cell_type": "markdown",
   "metadata": {},
   "source": [
    "#### 6.2.2) Applied to pests"
   ]
  },
  {
   "cell_type": "code",
   "execution_count": 22,
   "metadata": {},
   "outputs": [
    {
     "name": "stdout",
     "output_type": "stream",
     "text": [
      "Lepto data:\n",
      "              Unnamed: 0  Year Lepto_Y_N  % Infestation  rainfalldiff  \\\n",
      "Id Timeframe                                                            \n",
      "1  1                   0  2017       Yes           72.0    -33.291304   \n",
      "2  1                   1  2017       Yes           92.0    -62.415942   \n",
      "3  1                   2  2017       Yes           98.0     48.133333   \n",
      "4  1                   3  2017       Yes          100.0     16.333333   \n",
      "5  1                   4  2017       Yes          100.0    -28.066667   \n",
      "\n",
      "              rainfall  rainfallavg  temperature_maxdiff  temperature_max  \\\n",
      "Id Timeframe                                                                \n",
      "1  1             151.5   184.791304             2.226002        29.335484   \n",
      "2  1             219.5   281.915942             0.652248        28.432258   \n",
      "3  1             301.5   253.366667             0.563832        28.432258   \n",
      "4  1             249.0   232.666667             0.563832        28.432258   \n",
      "5  1             175.5   203.566667            -0.584506        28.432258   \n",
      "\n",
      "              temperature_maxavg  temperature_mindiff  temperature_min  \\\n",
      "Id Timeframe                                                             \n",
      "1  1                   27.109482             1.785191         18.03871   \n",
      "2  1                   27.780010             1.754252         20.10000   \n",
      "3  1                   27.868426             2.227761         20.10000   \n",
      "4  1                   27.868426             2.227761         20.10000   \n",
      "5  1                   29.016764             2.092082         20.10000   \n",
      "\n",
      "              temperature_minavg  temperature_diffdiff  temperature_diff  \\\n",
      "Id Timeframe                                                               \n",
      "1  1                   16.253519              0.440811         11.296774   \n",
      "2  1                   18.345748             -1.102004          8.332258   \n",
      "3  1                   17.872239             -1.663930          8.332258   \n",
      "4  1                   17.872239             -1.663930          8.332258   \n",
      "5  1                   18.007918             -2.676588          8.332258   \n",
      "\n",
      "              temperature_diffavg  \n",
      "Id Timeframe                       \n",
      "1  1                    10.855963  \n",
      "2  1                     9.434262  \n",
      "3  1                     9.996188  \n",
      "4  1                     9.996188  \n",
      "5  1                    11.008847  \n"
     ]
    }
   ],
   "source": [
    "# exportFolder = 'C:/Users/gf2704928/Documents/_MIT (Desktop)/__DataFor808/Modeling/'\n",
    "# leptoDataOg = pd.read_csv (r\"C:/Users/gf2704928\\Documents/_MIT (Desktop)/__DataFor808/Modeling/Leptocybe_R01.csv\", usecols = ['Id','Year','Lepto_Y_N','% Infestation'])\n",
    "# leptoData = mergeData(leptoDataOg,'leptoDiffActTrans.csv')\n",
    "# leptoData.to_csv(exportFolder + 'leptoDataCombined.csv')\n",
    "\n",
    "leptoData = read_from_drive('https://drive.google.com/file/d/1GvzuS_mQkL7bBGu8jRn1IOehLcGX__zf/view?usp=sharing').set_index(['Id','Timeframe'])\n",
    "print('Lepto data:')\n",
    "print(leptoData.head())"
   ]
  },
  {
   "cell_type": "code",
   "execution_count": 23,
   "metadata": {},
   "outputs": [
    {
     "name": "stdout",
     "output_type": "stream",
     "text": [
      "Sirex data:\n",
      "               Unnamed: 0  Year Sirex_Presence  rainfalldiff  rainfall  \\\n",
      "Id  Timeframe                                                            \n",
      "392 1                   0  2012       No Sirex    -64.017647     189.9   \n",
      "391 1                   1  2012       No Sirex    -64.017647     189.9   \n",
      "390 1                   2  2012       No Sirex    -67.923188     189.9   \n",
      "389 1                   3  2012       No Sirex    166.217391     295.2   \n",
      "388 1                   4  2012       No Sirex     71.920588     314.0   \n",
      "\n",
      "               rainfallavg  temperature_maxdiff  temperature_max  \\\n",
      "Id  Timeframe                                                      \n",
      "392 1           253.917647             2.981476        30.054839   \n",
      "391 1           253.917647             2.981476        30.054839   \n",
      "390 1           257.823188             2.981476        30.054839   \n",
      "389 1           128.982609             2.851955        30.054839   \n",
      "388 1           242.079412             1.874780        30.054839   \n",
      "\n",
      "               temperature_maxavg  temperature_mindiff  temperature_min  \\\n",
      "Id  Timeframe                                                             \n",
      "392 1                   27.073363             2.164076        20.309677   \n",
      "391 1                   27.073363             2.164076        20.309677   \n",
      "390 1                   27.073363             2.164076        20.309677   \n",
      "389 1                   27.202884             2.847556        20.309677   \n",
      "388 1                   28.180059             1.750440        20.309677   \n",
      "\n",
      "               temperature_minavg  temperature_diffdiff  temperature_diff  \\\n",
      "Id  Timeframe                                                               \n",
      "392 1                   18.145601              0.817400          9.745161   \n",
      "391 1                   18.145601              0.817400          9.745161   \n",
      "390 1                   18.145601              0.817400          9.745161   \n",
      "389 1                   17.462121              0.004399          9.745161   \n",
      "388 1                   18.559238              0.124340          9.745161   \n",
      "\n",
      "               temperature_diffavg  \n",
      "Id  Timeframe                       \n",
      "392 1                     8.927761  \n",
      "391 1                     8.927761  \n",
      "390 1                     8.927761  \n",
      "389 1                     9.740762  \n",
      "388 1                     9.620821  \n"
     ]
    }
   ],
   "source": [
    "# sirexDataOg = pd.read_csv (r\"C:/Users/gf2704928\\Documents/_MIT (Desktop)/__DataFor808/Modeling/Sirex_R01.csv\", usecols = ['Id','Year','Sirex_Presence'])\n",
    "# sirexData = mergeData(sirexDataOg,'sirexDiffActTrans.csv')\n",
    "# sirexData.to_csv(exportFolder + 'sirexDataCombined.csv')\n",
    "\n",
    "sirexData = read_from_drive('https://drive.google.com/file/d/1nM4cA8AReB7OJaZUfl04tdSioDnyuKpZ/view?usp=sharing').set_index(['Id','Timeframe'])\n",
    "print('Sirex data:')\n",
    "print(sirexData.head())"
   ]
  }
 ],
 "metadata": {
  "interpreter": {
   "hash": "f339fb3a027be473131e6ac829b8dc34fc7d4e2b227bdb2c2c5f9829538e0fed"
  },
  "kernelspec": {
   "display_name": "Python 3.8.8 ('base')",
   "language": "python",
   "name": "python3"
  },
  "language_info": {
   "codemirror_mode": {
    "name": "ipython",
    "version": 3
   },
   "file_extension": ".py",
   "mimetype": "text/x-python",
   "name": "python",
   "nbconvert_exporter": "python",
   "pygments_lexer": "ipython3",
   "version": "3.9.1"
  },
  "orig_nbformat": 4
 },
 "nbformat": 4,
 "nbformat_minor": 2
}
