{
 "cells": [
  {
   "cell_type": "markdown",
   "metadata": {},
   "source": [
    "# Data prep for South Africa grid"
   ]
  },
  {
   "cell_type": "markdown",
   "metadata": {},
   "source": [
    "This cell generates the average rainfall and temperature measurements experienced at the centroid of all grid blocks created.\n",
    "\n",
    "Note that 'Run All' functionality is not activated due to the requirement of the source files, which could not be uploaded to GitHub due to size and confidentiality."
   ]
  },
  {
   "cell_type": "code",
   "execution_count": 1,
   "metadata": {},
   "outputs": [],
   "source": [
    "import pandas as pd\n",
    "from functions import *"
   ]
  },
  {
   "cell_type": "code",
   "execution_count": null,
   "metadata": {},
   "outputs": [],
   "source": [
    "# variable = \"rainfall\"\n",
    "# variable = \"temperature_max\"\n",
    "# variable = \"temperature_min\"\n",
    "variable = \"temperature_diff\"\n",
    "\n",
    "path = 'C:/Users/gf2704928/Documents/_MIT (Desktop)/__DataFor808/Modeling/' + variable + '/'\n",
    "activesStations = pd.read_csv(path + 'readingPerMonthCount.csv').set_index('clim_no')\n",
    "weatherStationsAll = pd.read_csv(\"C:/Users/gf2704928/Documents/_MIT (Desktop)/__DataFor808/Modeling/WeatherStationsClean_R03_inMeters.csv\", usecols =[\"Id\",\"clim_no_2\"]).set_index('clim_no_2')\n",
    "\n",
    "activesStations = activesStations.join(weatherStationsAll).dropna()\n",
    "activesStations['Id'] = activesStations['Id'].astype('int')\n",
    "activesStations = activesStations.drop(columns=['Unnamed: 0'])\n",
    "activesStations = activesStations.set_index(['Id','year','month'])\n",
    "stationsReadings = pd.read_csv(path + 'readingPerMonthMatched.csv').set_index(['Id','year','month'])\n",
    "activesStations = activesStations.join(stationsReadings)\n",
    "activesStations = activesStations.drop(columns = ['count'])\n",
    "activesStations.to_csv('C:/Users/gf2704928/Documents/_MIT (Desktop)/__DataFor808/Visualisation/'+variable+'AtActiveStations.csv')\n",
    "activesStations"
   ]
  },
  {
   "cell_type": "markdown",
   "metadata": {},
   "source": [
    "All other code (previously in the notebook) was transferred to https://github.com/up-mitc-ds/mit808-2022-project-significant-outliers-1/blob/master/src/pages/functions.py, and subsequently updated as part of the *streamlit* app script."
   ]
  }
 ],
 "metadata": {
  "interpreter": {
   "hash": "81794d4967e6c3204c66dcd87b604927b115b27c00565d3d43f05ba2f3a2cb0d"
  },
  "kernelspec": {
   "display_name": "Python 3.9.1 64-bit",
   "language": "python",
   "name": "python3"
  },
  "language_info": {
   "codemirror_mode": {
    "name": "ipython",
    "version": 3
   },
   "file_extension": ".py",
   "mimetype": "text/x-python",
   "name": "python",
   "nbconvert_exporter": "python",
   "pygments_lexer": "ipython3",
   "version": "3.9.1"
  },
  "orig_nbformat": 4
 },
 "nbformat": 4,
 "nbformat_minor": 2
}
